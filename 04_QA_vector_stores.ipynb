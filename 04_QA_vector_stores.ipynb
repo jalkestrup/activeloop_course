{
 "cells": [
  {
   "cell_type": "code",
   "execution_count": 1,
   "metadata": {},
   "outputs": [],
   "source": [
    "import os\n",
    "from dotenv import load_dotenv\n",
    "\n",
    "load_dotenv(override=True)\n",
    "\n",
    "OPENAI_API_KEY = os.environ.get(\"OPENAI_API_KEY\")\n",
    "ACTIVELOOP_TOKEN = os.environ.get('ACTIVELOOP_TOKEN')\n",
    "GOOGLE_CSE_ID = os.environ.get('GOOGLE_CSE_ID')\n",
    "GOOGLE_API_KEY = os.environ.get('GOOGLE_API_KEY')"
   ]
  },
  {
   "cell_type": "markdown",
   "metadata": {},
   "source": [
    "# Textloader & splitter\n",
    "Simplest case"
   ]
  },
  {
   "cell_type": "code",
   "execution_count": 2,
   "metadata": {},
   "outputs": [
    {
     "name": "stderr",
     "output_type": "stream",
     "text": [
      "/home/jealk/mambaforge/envs/llm/lib/python3.11/site-packages/deeplake/util/check_latest_version.py:32: UserWarning: A newer version of deeplake (3.8.0) is available. It's recommended that you update to the latest version using `pip install -U deeplake`.\n",
      "  warnings.warn(\n"
     ]
    },
    {
     "name": "stdout",
     "output_type": "stream",
     "text": [
      "1\n"
     ]
    }
   ],
   "source": [
    "from langchain.document_loaders import TextLoader\n",
    "\n",
    "# use TextLoader to load text from local file\n",
    "# The TextLoader converts the text into a LangChhain document: a piece of text (the .txt) and metadata\n",
    "loader = TextLoader(\"data/soilsense_info.txt\")\n",
    "docs_from_file = loader.load()\n",
    "\n",
    "print(len(docs_from_file))\n",
    "# 1"
   ]
  },
  {
   "cell_type": "code",
   "execution_count": 18,
   "metadata": {},
   "outputs": [
    {
     "data": {
      "text/plain": [
       "{'source': 'data/soilsense_info.txt'}"
      ]
     },
     "execution_count": 18,
     "metadata": {},
     "output_type": "execute_result"
    }
   ],
   "source": [
    "docs_from_file[0].metadata"
   ]
  },
  {
   "cell_type": "code",
   "execution_count": 35,
   "metadata": {},
   "outputs": [
    {
     "name": "stderr",
     "output_type": "stream",
     "text": [
      "Created a chunk of size 206, which is longer than the specified 200\n",
      "Created a chunk of size 256, which is longer than the specified 200\n",
      "Created a chunk of size 209, which is longer than the specified 200\n",
      "Created a chunk of size 274, which is longer than the specified 200\n",
      "Created a chunk of size 245, which is longer than the specified 200\n",
      "Created a chunk of size 246, which is longer than the specified 200\n",
      "Created a chunk of size 626, which is longer than the specified 200\n",
      "Created a chunk of size 589, which is longer than the specified 200\n",
      "Created a chunk of size 719, which is longer than the specified 200\n",
      "Created a chunk of size 814, which is longer than the specified 200\n",
      "Created a chunk of size 335, which is longer than the specified 200\n",
      "Created a chunk of size 228, which is longer than the specified 200\n",
      "Created a chunk of size 214, which is longer than the specified 200\n"
     ]
    },
    {
     "name": "stdout",
     "output_type": "stream",
     "text": [
      "36\n"
     ]
    }
   ],
   "source": [
    "from langchain.text_splitter import CharacterTextSplitter\n",
    "\n",
    "# create a text splitter\n",
    "text_splitter = CharacterTextSplitter(chunk_size=200, chunk_overlap=20)\n",
    "\n",
    "#Using the simple text_splitter (inferior to recurve splitter often)\n",
    "# split documents into chunks, where each is a LangChain document: Text + metadata\n",
    "docs_split = text_splitter.split_documents(docs_from_file)\n",
    "\n",
    "print(len(docs_split))"
   ]
  },
  {
   "cell_type": "code",
   "execution_count": 36,
   "metadata": {},
   "outputs": [
    {
     "name": "stdout",
     "output_type": "stream",
     "text": [
      "64\n"
     ]
    }
   ],
   "source": [
    "from langchain.text_splitter import RecursiveCharacterTextSplitter\n",
    "\n",
    "# create a text splitter\n",
    "text_splitter = RecursiveCharacterTextSplitter(chunk_size=200, chunk_overlap=20)\n",
    "\n",
    "# split documents into chunks\n",
    "docs_split = text_splitter.split_documents(docs_from_file)\n",
    "\n",
    "print(len(docs_split))"
   ]
  },
  {
   "cell_type": "markdown",
   "metadata": {},
   "source": [
    "#### Simple embedding using S-BERT directly on text (not LangChain documents)"
   ]
  },
  {
   "cell_type": "code",
   "execution_count": 5,
   "metadata": {},
   "outputs": [],
   "source": [
    "#download a small but high quality sbert model specifically for search retrieval\n",
    "# https://www.sbert.net/docs/pretrained_models.html#sentence-embedding-models\n",
    "from sentence_transformers import SentenceTransformer\n",
    "sbert_name = 'multi-qa-MiniLM-L6-cos-v1'\n",
    "sbert_model = SentenceTransformer(sbert_name)\n"
   ]
  },
  {
   "cell_type": "code",
   "execution_count": 27,
   "metadata": {},
   "outputs": [],
   "source": [
    "#Load the txt file into a string\n",
    "with open(\"data/soilsense_info.txt\", \"r\") as f:\n",
    "    raw_text = f.read()"
   ]
  },
  {
   "cell_type": "code",
   "execution_count": 30,
   "metadata": {},
   "outputs": [
    {
     "data": {
      "text/plain": [
       "'Markhaven is a large supplier of organic tomatoes and cucumbers. In 2020 they decided to switch their previous soil sensor system to SoilSense, because it was more reliable and easier to use.'"
      ]
     },
     "execution_count": 30,
     "metadata": {},
     "output_type": "execute_result"
    }
   ],
   "source": [
    "#Split txt file into chunks, a list of strings\n",
    "texts = text_splitter.split_text(raw_text)\n",
    "texts[5]"
   ]
  },
  {
   "cell_type": "code",
   "execution_count": 33,
   "metadata": {},
   "outputs": [
    {
     "data": {
      "text/plain": [
       "array([-0.02734048, -0.06055646,  0.0111266 ,  0.00489044,  0.09658063,\n",
       "       -0.06618331, -0.10043136,  0.03441631, -0.02803754, -0.00858918],\n",
       "      dtype=float32)"
      ]
     },
     "execution_count": 33,
     "metadata": {},
     "output_type": "execute_result"
    }
   ],
   "source": [
    "# Embed \n",
    "docs_emb = sbert_model.encode(texts)\n",
    "#print the first 10 dims of the embeddings of item no 6\n",
    "docs_emb[5][0:10]"
   ]
  },
  {
   "cell_type": "markdown",
   "metadata": {},
   "source": [
    "#### Using S-BERT in LangChain with local Chroma vectorstore\n",
    "Creating a vectorstore using documents and the embeddings"
   ]
  },
  {
   "cell_type": "code",
   "execution_count": 39,
   "metadata": {},
   "outputs": [],
   "source": [
    "from langchain.embeddings import HuggingFaceEmbeddings, SentenceTransformerEmbeddings\n",
    "sbert_embeddings = HuggingFaceEmbeddings(model_name=sbert_name)"
   ]
  },
  {
   "cell_type": "code",
   "execution_count": 40,
   "metadata": {},
   "outputs": [
    {
     "name": "stdout",
     "output_type": "stream",
     "text": [
      "huggingface/tokenizers: The current process just got forked, after parallelism has already been used. Disabling parallelism to avoid deadlocks...\n",
      "To disable this warning, you can either:\n",
      "\t- Avoid using `tokenizers` before the fork if possible\n",
      "\t- Explicitly set the environment variable TOKENIZERS_PARALLELISM=(true | false)\n"
     ]
    }
   ],
   "source": [
    "from langchain.vectorstores import Chroma\n",
    "\n",
    "persist_directory = './data/chroma/'\n",
    "\n",
    "!rm -rf ./data/chroma  # remove old database files if any\n",
    "\n",
    "vectordb = Chroma.from_documents(\n",
    "    documents=docs_split,\n",
    "    embedding=sbert_embeddings,\n",
    "    persist_directory=persist_directory\n",
    ")\n"
   ]
  },
  {
   "cell_type": "markdown",
   "metadata": {},
   "source": [
    "Returning the most similar documents in the created DB based on a query"
   ]
  },
  {
   "cell_type": "code",
   "execution_count": 41,
   "metadata": {},
   "outputs": [
    {
     "data": {
      "text/plain": [
       "[Document(page_content='Soil moisture sensor system\\nFor complete technical specifications request the datasheets of our products below:', metadata={'source': 'data/soilsense_info.txt'}),\n",
       " Document(page_content='such as soil types, variations in EC, and soil compaction. Most other solutions rely on capacitive sensors that have proven unfit for this purpose.', metadata={'source': 'data/soilsense_info.txt'}),\n",
       " Document(page_content='Our buried sensors provide the most correct measurement of the soil because they do not disturb water flow after installation.', metadata={'source': 'data/soilsense_info.txt'})]"
      ]
     },
     "execution_count": 41,
     "metadata": {},
     "output_type": "execute_result"
    }
   ],
   "source": [
    "question = \"What makes Soilsense different from other soil sensors?\"\n",
    "docs = vectordb.similarity_search(question,k=3)\n",
    "docs"
   ]
  },
  {
   "cell_type": "markdown",
   "metadata": {},
   "source": [
    "**Using OpenAI Embeddings**"
   ]
  },
  {
   "cell_type": "code",
   "execution_count": 42,
   "metadata": {},
   "outputs": [],
   "source": [
    "from langchain.embeddings.openai import OpenAIEmbeddings\n",
    "openai_embedding = OpenAIEmbeddings()"
   ]
  },
  {
   "cell_type": "code",
   "execution_count": 43,
   "metadata": {},
   "outputs": [
    {
     "name": "stdout",
     "output_type": "stream",
     "text": [
      "huggingface/tokenizers: The current process just got forked, after parallelism has already been used. Disabling parallelism to avoid deadlocks...\n",
      "To disable this warning, you can either:\n",
      "\t- Avoid using `tokenizers` before the fork if possible\n",
      "\t- Explicitly set the environment variable TOKENIZERS_PARALLELISM=(true | false)\n"
     ]
    }
   ],
   "source": [
    "from langchain.vectorstores import Chroma\n",
    "\n",
    "persist_directory = './data/chroma/'\n",
    "\n",
    "!rm -rf ./data/chroma  # remove old database files if any\n",
    "\n",
    "vectordb = Chroma.from_documents(\n",
    "    documents=docs_split,\n",
    "    embedding=openai_embedding,\n",
    "    persist_directory=persist_directory\n",
    ")\n"
   ]
  },
  {
   "cell_type": "code",
   "execution_count": 47,
   "metadata": {},
   "outputs": [
    {
     "data": {
      "text/plain": [
       "[Document(page_content='Avoiding plant stress\\nOur accurate soil-moisture sensors make sure that you will be warned before the soil gets too dry and starts limiting growth.', metadata={'source': 'data/soilsense_info.txt'}),\n",
       " Document(page_content='We offer a simple, robust and affordable soil sensor system to help orchard managers, greenhouse growers and high-value field crop farmers manage and optimize irrigation', metadata={'source': 'data/soilsense_info.txt'}),\n",
       " Document(page_content='The best on the market\\nThe best soil moisture sensors, thoroughly tested wireless infrastructure, automatic data analysis, and an easy to use software platform', metadata={'source': 'data/soilsense_info.txt'})]"
      ]
     },
     "execution_count": 47,
     "metadata": {},
     "output_type": "execute_result"
    }
   ],
   "source": [
    "question = \"What makes Soilsense different from other soil sensors?\"\n",
    "docs = vectordb.similarity_search(question,k=3)\n",
    "docs"
   ]
  },
  {
   "cell_type": "markdown",
   "metadata": {},
   "source": [
    "**similarity_search_with_relevance_scores**\n",
    "\n",
    "Relative scores returned [0-1]. In LangChain, the similarity_search_with_relevance_scores function normalizes the raw similarity scores using a relevance score function."
   ]
  },
  {
   "cell_type": "code",
   "execution_count": 50,
   "metadata": {},
   "outputs": [
    {
     "data": {
      "text/plain": [
       "[(Document(page_content='Avoiding plant stress\\nOur accurate soil-moisture sensors make sure that you will be warned before the soil gets too dry and starts limiting growth.', metadata={'source': 'data/soilsense_info.txt'}),\n",
       "  0.8034680126281541),\n",
       " (Document(page_content='We offer a simple, robust and affordable soil sensor system to help orchard managers, greenhouse growers and high-value field crop farmers manage and optimize irrigation', metadata={'source': 'data/soilsense_info.txt'}),\n",
       "  0.8010018095539255),\n",
       " (Document(page_content='The best on the market\\nThe best soil moisture sensors, thoroughly tested wireless infrastructure, automatic data analysis, and an easy to use software platform', metadata={'source': 'data/soilsense_info.txt'}),\n",
       "  0.799453009533969)]"
      ]
     },
     "execution_count": 50,
     "metadata": {},
     "output_type": "execute_result"
    }
   ],
   "source": [
    "question = \"What makes Soilsense different from other soil sensors?\"\n",
    "docs = vectordb.similarity_search_with_relevance_scores(question,k=3, score_threshold=0.6)\n",
    "docs"
   ]
  },
  {
   "cell_type": "markdown",
   "metadata": {},
   "source": [
    "**Similarity_search_with_score**\n",
    "\n",
    "There are some FAISS specific methods. One of them is similarity_search_with_score, which allows you to return not only the documents but also the distance score of the query to them. The returned distance score is L2 distance. Therefore, a lower score is better\n",
    "https://python.langchain.com/docs/integrations/vectorstores/faiss?highlight=FAISS.from_documents#similarity-search-with-score"
   ]
  },
  {
   "cell_type": "code",
   "execution_count": 46,
   "metadata": {},
   "outputs": [
    {
     "data": {
      "text/plain": [
       "[(Document(page_content='Avoiding plant stress\\nOur accurate soil-moisture sensors make sure that you will be warned before the soil gets too dry and starts limiting growth.', metadata={'source': 'data/soilsense_info.txt'}),\n",
       "  0.27793820198140234),\n",
       " (Document(page_content='We offer a simple, robust and affordable soil sensor system to help orchard managers, greenhouse growers and high-value field crop farmers manage and optimize irrigation', metadata={'source': 'data/soilsense_info.txt'}),\n",
       "  0.2814259398165427),\n",
       " (Document(page_content='The best on the market\\nThe best soil moisture sensors, thoroughly tested wireless infrastructure, automatic data analysis, and an easy to use software platform', metadata={'source': 'data/soilsense_info.txt'}),\n",
       "  0.2836162738101688)]"
      ]
     },
     "execution_count": 46,
     "metadata": {},
     "output_type": "execute_result"
    }
   ],
   "source": [
    "question = \"What makes Soilsense different from other soil sensors?\"\n",
    "docs = vectordb.similarity_search_with_score(question,k=3)\n",
    "docs"
   ]
  },
  {
   "cell_type": "markdown",
   "metadata": {},
   "source": [
    "### Wrapping the vectorstore in a LangChain retriever\n",
    "It is a lightweight wrapper around the vector store class to make it conform to the retriever interface.\n",
    "\n",
    "! I.e. DOES EXACTLY THE SAME THING ! as the vectorstore "
   ]
  },
  {
   "cell_type": "code",
   "execution_count": 53,
   "metadata": {},
   "outputs": [],
   "source": [
    "retriever = vectordb.as_retriever()"
   ]
  },
  {
   "cell_type": "code",
   "execution_count": 55,
   "metadata": {},
   "outputs": [
    {
     "data": {
      "text/plain": [
       "[Document(page_content='Avoiding plant stress\\nOur accurate soil-moisture sensors make sure that you will be warned before the soil gets too dry and starts limiting growth.', metadata={'source': 'data/soilsense_info.txt'}),\n",
       " Document(page_content='We offer a simple, robust and affordable soil sensor system to help orchard managers, greenhouse growers and high-value field crop farmers manage and optimize irrigation', metadata={'source': 'data/soilsense_info.txt'}),\n",
       " Document(page_content='The best on the market\\nThe best soil moisture sensors, thoroughly tested wireless infrastructure, automatic data analysis, and an easy to use software platform', metadata={'source': 'data/soilsense_info.txt'}),\n",
       " Document(page_content='Buried sensors\\nMeasure the right thing\\nWe use buried soil sensors because they provide the most realistic measurement of actual soil conditions.', metadata={'source': 'data/soilsense_info.txt'})]"
      ]
     },
     "execution_count": 55,
     "metadata": {},
     "output_type": "execute_result"
    }
   ],
   "source": [
    "docs = retriever.get_relevant_documents(\"What makes Soilsense different from other soil sensors?\")\n",
    "docs"
   ]
  },
  {
   "cell_type": "markdown",
   "metadata": {},
   "source": [
    "### Using external vectorstore, DeepLake"
   ]
  },
  {
   "cell_type": "code",
   "execution_count": 57,
   "metadata": {},
   "outputs": [
    {
     "name": "stdout",
     "output_type": "stream",
     "text": [
      "Deep Lake Dataset in hub://jalkestrup/langchain_course_indexers_retrievers already exists, loading from the storage\n"
     ]
    }
   ],
   "source": [
    "from langchain.vectorstores import DeepLake\n",
    "\n",
    "my_activeloop_org_id = \"jalkestrup\" \n",
    "my_activeloop_dataset_name = \"langchain_course_indexers_retrievers\"\n",
    "dataset_path = f\"hub://{my_activeloop_org_id}/{my_activeloop_dataset_name}\"\n",
    "db = DeepLake(dataset_path=dataset_path, embedding=sbert_embeddings)"
   ]
  },
  {
   "cell_type": "markdown",
   "metadata": {},
   "source": [
    "Adding split documents to DeepLake, will get embedded with the specified model"
   ]
  },
  {
   "cell_type": "code",
   "execution_count": 52,
   "metadata": {},
   "outputs": [
    {
     "name": "stderr",
     "output_type": "stream",
     "text": [
      "creating embeddings: 100%|██████████| 1/1 [00:00<00:00,  1.98it/s]\n",
      "100%|██████████| 64/64 [00:01<00:00, 41.06it/s]\n",
      " \r"
     ]
    },
    {
     "name": "stdout",
     "output_type": "stream",
     "text": [
      "Dataset(path='hub://jalkestrup/langchain_course_indexers_retrievers', tensors=['text', 'metadata', 'embedding', 'id'])\n",
      "\n",
      "  tensor      htype      shape     dtype  compression\n",
      "  -------    -------    -------   -------  ------- \n",
      "   text       text      (64, 1)     str     None   \n",
      " metadata     json      (64, 1)     str     None   \n",
      " embedding  embedding  (64, 384)  float32   None   \n",
      "    id        text      (64, 1)     str     None   \n"
     ]
    },
    {
     "data": {
      "text/plain": [
       "['b5d458fa-6815-11ee-8b26-00155d2697bb',\n",
       " 'b5d45c4c-6815-11ee-8b26-00155d2697bb',\n",
       " 'b5d45cba-6815-11ee-8b26-00155d2697bb',\n",
       " 'b5d45ce2-6815-11ee-8b26-00155d2697bb',\n",
       " 'b5d45d14-6815-11ee-8b26-00155d2697bb',\n",
       " 'b5d45d46-6815-11ee-8b26-00155d2697bb',\n",
       " 'b5d45d6e-6815-11ee-8b26-00155d2697bb',\n",
       " 'b5d45daa-6815-11ee-8b26-00155d2697bb',\n",
       " 'b5d45dd2-6815-11ee-8b26-00155d2697bb',\n",
       " 'b5d45dfa-6815-11ee-8b26-00155d2697bb',\n",
       " 'b5d45e22-6815-11ee-8b26-00155d2697bb',\n",
       " 'b5d45e4a-6815-11ee-8b26-00155d2697bb',\n",
       " 'b5d45e72-6815-11ee-8b26-00155d2697bb',\n",
       " 'b5d45e9a-6815-11ee-8b26-00155d2697bb',\n",
       " 'b5d45ec2-6815-11ee-8b26-00155d2697bb',\n",
       " 'b5d45eea-6815-11ee-8b26-00155d2697bb',\n",
       " 'b5d45f12-6815-11ee-8b26-00155d2697bb',\n",
       " 'b5d45f3a-6815-11ee-8b26-00155d2697bb',\n",
       " 'b5d45f62-6815-11ee-8b26-00155d2697bb',\n",
       " 'b5d45f8a-6815-11ee-8b26-00155d2697bb',\n",
       " 'b5d45fa8-6815-11ee-8b26-00155d2697bb',\n",
       " 'b5d45fd0-6815-11ee-8b26-00155d2697bb',\n",
       " 'b5d45ff8-6815-11ee-8b26-00155d2697bb',\n",
       " 'b5d46020-6815-11ee-8b26-00155d2697bb',\n",
       " 'b5d4603e-6815-11ee-8b26-00155d2697bb',\n",
       " 'b5d46070-6815-11ee-8b26-00155d2697bb',\n",
       " 'b5d46098-6815-11ee-8b26-00155d2697bb',\n",
       " 'b5d460b6-6815-11ee-8b26-00155d2697bb',\n",
       " 'b5d460de-6815-11ee-8b26-00155d2697bb',\n",
       " 'b5d46106-6815-11ee-8b26-00155d2697bb',\n",
       " 'b5d4612e-6815-11ee-8b26-00155d2697bb',\n",
       " 'b5d4614c-6815-11ee-8b26-00155d2697bb',\n",
       " 'b5d46174-6815-11ee-8b26-00155d2697bb',\n",
       " 'b5d4619c-6815-11ee-8b26-00155d2697bb',\n",
       " 'b5d461c4-6815-11ee-8b26-00155d2697bb',\n",
       " 'b5d461ec-6815-11ee-8b26-00155d2697bb',\n",
       " 'b5d46214-6815-11ee-8b26-00155d2697bb',\n",
       " 'b5d46232-6815-11ee-8b26-00155d2697bb',\n",
       " 'b5d4625a-6815-11ee-8b26-00155d2697bb',\n",
       " 'b5d46278-6815-11ee-8b26-00155d2697bb',\n",
       " 'b5d462a0-6815-11ee-8b26-00155d2697bb',\n",
       " 'b5d462d2-6815-11ee-8b26-00155d2697bb',\n",
       " 'b5d462f0-6815-11ee-8b26-00155d2697bb',\n",
       " 'b5d46318-6815-11ee-8b26-00155d2697bb',\n",
       " 'b5d46340-6815-11ee-8b26-00155d2697bb',\n",
       " 'b5d4635e-6815-11ee-8b26-00155d2697bb',\n",
       " 'b5d46390-6815-11ee-8b26-00155d2697bb',\n",
       " 'b5d463d6-6815-11ee-8b26-00155d2697bb',\n",
       " 'b5d46412-6815-11ee-8b26-00155d2697bb',\n",
       " 'b5d46444-6815-11ee-8b26-00155d2697bb',\n",
       " 'b5d46476-6815-11ee-8b26-00155d2697bb',\n",
       " 'b5d464a8-6815-11ee-8b26-00155d2697bb',\n",
       " 'b5d464da-6815-11ee-8b26-00155d2697bb',\n",
       " 'b5d46520-6815-11ee-8b26-00155d2697bb',\n",
       " 'b5d46552-6815-11ee-8b26-00155d2697bb',\n",
       " 'b5d4658e-6815-11ee-8b26-00155d2697bb',\n",
       " 'b5d4669c-6815-11ee-8b26-00155d2697bb',\n",
       " 'b5d466e2-6815-11ee-8b26-00155d2697bb',\n",
       " 'b5d4671e-6815-11ee-8b26-00155d2697bb',\n",
       " 'b5d46750-6815-11ee-8b26-00155d2697bb',\n",
       " 'b5d467c8-6815-11ee-8b26-00155d2697bb',\n",
       " 'b5d46840-6815-11ee-8b26-00155d2697bb',\n",
       " 'b5d4687c-6815-11ee-8b26-00155d2697bb',\n",
       " 'b5d468b8-6815-11ee-8b26-00155d2697bb']"
      ]
     },
     "execution_count": 52,
     "metadata": {},
     "output_type": "execute_result"
    }
   ],
   "source": [
    "db.add_documents(docs_split)"
   ]
  },
  {
   "cell_type": "code",
   "execution_count": 58,
   "metadata": {},
   "outputs": [
    {
     "data": {
      "text/plain": [
       "[Document(page_content='Soil moisture sensor system\\nFor complete technical specifications request the datasheets of our products below:', metadata={'source': 'data/soilsense_info.txt'}),\n",
       " Document(page_content='such as soil types, variations in EC, and soil compaction. Most other solutions rely on capacitive sensors that have proven unfit for this purpose.', metadata={'source': 'data/soilsense_info.txt'}),\n",
       " Document(page_content='Our buried sensors provide the most correct measurement of the soil because they do not disturb water flow after installation.', metadata={'source': 'data/soilsense_info.txt'}),\n",
       " Document(page_content='Soil moisture sensors estimate water indirectly from the permittivity of the soil. The problem is that at the low operating frequency of capacitive sensors, the permittivity is not linear in all soil', metadata={'source': 'data/soilsense_info.txt'})]"
      ]
     },
     "execution_count": 58,
     "metadata": {},
     "output_type": "execute_result"
    }
   ],
   "source": [
    "retriever = db.as_retriever()\n",
    "docs = retriever.get_relevant_documents(\"What makes Soilsense different from other soil sensors?\")\n",
    "docs"
   ]
  },
  {
   "cell_type": "markdown",
   "metadata": {},
   "source": [
    "## Q&A Retrieval\n"
   ]
  },
  {
   "cell_type": "code",
   "execution_count": 72,
   "metadata": {},
   "outputs": [],
   "source": [
    "from langchain.chains import RetrievalQA\n",
    "from langchain.llms import OpenAI\n",
    "\n",
    "# create a retrieval chain\n",
    "# gpt-3.5-turbo-instruct replaced davinchi-003\n",
    "qa_chain = RetrievalQA.from_chain_type(\n",
    "\tllm=OpenAI(model=\"gpt-3.5-turbo-instruct\"),\n",
    "\tchain_type=\"stuff\",\n",
    "\tretriever=retriever,\n",
    "\tverbose=True\n",
    ")"
   ]
  },
  {
   "cell_type": "code",
   "execution_count": 74,
   "metadata": {},
   "outputs": [
    {
     "name": "stdout",
     "output_type": "stream",
     "text": [
      "\n",
      "\n",
      "\u001b[1m> Entering new RetrievalQA chain...\u001b[0m\n",
      "\n",
      "\u001b[1m> Finished chain.\u001b[0m\n",
      " Soilsense uses buried sensors that do not disturb water flow after installation, making them more accurate than other sensors that rely on capacitive technology.\n"
     ]
    }
   ],
   "source": [
    "query = \"What makes Soilsense different from other soil sensors?\"\n",
    "response = qa_chain.run(query)\n",
    "print(response)"
   ]
  },
  {
   "cell_type": "markdown",
   "metadata": {},
   "source": [
    "**With Source**"
   ]
  },
  {
   "cell_type": "code",
   "execution_count": 88,
   "metadata": {},
   "outputs": [],
   "source": [
    "from langchain.chains import RetrievalQA\n",
    "from langchain.llms import OpenAI\n",
    "\n",
    "# create a retrieval chain\n",
    "# gpt-3.5-turbo-instruct replaced davinchi-003\n",
    "qa_chain = RetrievalQA.from_chain_type(\n",
    "\tllm=OpenAI(model=\"gpt-3.5-turbo-instruct\", temperature=0.0),\n",
    "\tchain_type=\"stuff\",\n",
    "\tretriever=retriever,\n",
    "\treturn_source_documents=True\n",
    ")"
   ]
  },
  {
   "cell_type": "markdown",
   "metadata": {},
   "source": [
    "**NOTE: Strange LangChain behavior**\n",
    "\n",
    "When adding Return_source_documents the chain can no longer be run with .run , but has to be called with a dict as argument.."
   ]
  },
  {
   "cell_type": "code",
   "execution_count": 89,
   "metadata": {},
   "outputs": [],
   "source": [
    "query = \"What makes Soilsense different from other soil sensors?\"\n",
    "response = qa_chain({\"query\": query})"
   ]
  },
  {
   "cell_type": "code",
   "execution_count": 90,
   "metadata": {},
   "outputs": [
    {
     "data": {
      "text/plain": [
       "' Soilsense uses buried sensors that do not disturb water flow after installation, providing the most accurate measurement of soil moisture. Additionally, Soilsense does not rely on capacitive sensors, which have been proven unfit for this purpose due to issues with soil types, variations in EC, and soil compaction.'"
      ]
     },
     "execution_count": 90,
     "metadata": {},
     "output_type": "execute_result"
    }
   ],
   "source": [
    "response['result']"
   ]
  },
  {
   "cell_type": "code",
   "execution_count": 91,
   "metadata": {},
   "outputs": [
    {
     "data": {
      "text/plain": [
       "[Document(page_content='Soil moisture sensor system\\nFor complete technical specifications request the datasheets of our products below:', metadata={'source': 'data/soilsense_info.txt'}),\n",
       " Document(page_content='such as soil types, variations in EC, and soil compaction. Most other solutions rely on capacitive sensors that have proven unfit for this purpose.', metadata={'source': 'data/soilsense_info.txt'}),\n",
       " Document(page_content='Our buried sensors provide the most correct measurement of the soil because they do not disturb water flow after installation.', metadata={'source': 'data/soilsense_info.txt'}),\n",
       " Document(page_content='Soil moisture sensors estimate water indirectly from the permittivity of the soil. The problem is that at the low operating frequency of capacitive sensors, the permittivity is not linear in all soil', metadata={'source': 'data/soilsense_info.txt'})]"
      ]
     },
     "execution_count": 91,
     "metadata": {},
     "output_type": "execute_result"
    }
   ],
   "source": [
    "response['source_documents']"
   ]
  },
  {
   "cell_type": "markdown",
   "metadata": {},
   "source": [
    "### If documents are stored with a source metadata key (default of LangChain) we can use RetrievalQAWithSourceChain"
   ]
  },
  {
   "cell_type": "code",
   "execution_count": 92,
   "metadata": {},
   "outputs": [],
   "source": [
    "from langchain.chains import RetrievalQAWithSourcesChain\n",
    "from langchain.llms import OpenAI\n",
    "\n",
    "qa_chain_sources = RetrievalQAWithSourcesChain.from_chain_type(\n",
    "\tllm=OpenAI(model=\"gpt-3.5-turbo-instruct\", temperature=0.0),\n",
    "    chain_type=\"stuff\", \n",
    "    retriever=retriever)"
   ]
  },
  {
   "cell_type": "code",
   "execution_count": 93,
   "metadata": {},
   "outputs": [
    {
     "data": {
      "text/plain": [
       "{'answer': ' Soilsense uses buried sensors that do not disturb water flow after installation and operate at a low frequency, making them more accurate than other soil sensors that rely on capacitive sensors. \\n',\n",
       " 'sources': 'data/soilsense_info.txt'}"
      ]
     },
     "execution_count": 93,
     "metadata": {},
     "output_type": "execute_result"
    }
   ],
   "source": [
    "qa_chain_sources({\"question\": query}, return_only_outputs=True)"
   ]
  },
  {
   "cell_type": "code",
   "execution_count": null,
   "metadata": {},
   "outputs": [],
   "source": []
  }
 ],
 "metadata": {
  "kernelspec": {
   "display_name": "llm",
   "language": "python",
   "name": "python3"
  },
  "language_info": {
   "codemirror_mode": {
    "name": "ipython",
    "version": 3
   },
   "file_extension": ".py",
   "mimetype": "text/x-python",
   "name": "python",
   "nbconvert_exporter": "python",
   "pygments_lexer": "ipython3",
   "version": "3.11.4"
  },
  "orig_nbformat": 4
 },
 "nbformat": 4,
 "nbformat_minor": 2
}
