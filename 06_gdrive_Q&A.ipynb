{
 "cells": [
  {
   "cell_type": "code",
   "execution_count": 1,
   "metadata": {},
   "outputs": [],
   "source": [
    "import os\n",
    "from dotenv import load_dotenv\n",
    "\n",
    "load_dotenv(override=True)\n",
    "\n",
    "OPENAI_API_KEY = os.environ.get(\"OPENAI_API_KEY\")\n",
    "GOOGLE_APPLICATION_CREDENTIALS = os.environ.get('GOOGLE_APPLICATION_CREDENTIALS')"
   ]
  },
  {
   "cell_type": "markdown",
   "metadata": {},
   "source": [
    "## Set up GooleDrive Authentication"
   ]
  },
  {
   "cell_type": "markdown",
   "metadata": {},
   "source": [
    "- Step 1: Enable Google Drive API on Google Cloud Platform\n",
    "- Step 2: Create OAth Application, of type desktop\n",
    "- Step 3: Download credentials, rename to credentials_desktop.json and move to project dir\n",
    "- Step 4: Manually create an empty token file by calling mkdir -p ~/.credentials/ (Perhaps a WSL/Langchain issue, should be created automatically) \n",
    "- Step 5: Run the Google Drive Loader and ctrl-click to open the link in a browser and authenticate"
   ]
  },
  {
   "cell_type": "code",
   "execution_count": 2,
   "metadata": {},
   "outputs": [],
   "source": [
    "from langchain.document_loaders import GoogleDriveLoader\n",
    "\n",
    "loader = GoogleDriveLoader(\n",
    "    folder_id=\"11Vpbdd4mC6GxlPNwg-GJdg4ovvvCFatq\",\n",
    "    #token_path='/path/where/you/want/token/to/be/created/google_token.json'\n",
    "    #file_types=[\"document\", \"sheet\"],\n",
    "    credentials_path=os.environ[\"GOOGLE_APPLICATION_CREDENTIALS\"],\n",
    "    recursive=False  # Optional: Fetch files from subfolders recursively. Defaults to False.\n",
    ")"
   ]
  },
  {
   "cell_type": "markdown",
   "metadata": {},
   "source": [
    "## Download and split documents"
   ]
  },
  {
   "cell_type": "code",
   "execution_count": 5,
   "metadata": {},
   "outputs": [],
   "source": [
    "# Downlad all files from the folder and turn into Langchain docs\n",
    "#per default pdfs are split so that 1 page is 1 doc\n",
    "#docs = loader.load()\n",
    "\n",
    "#Instead I use the text splitter to split the pdfs into chunks of 1000 characters with 200 characters overlap\n",
    "\n",
    "from langchain.document_loaders import PyPDFLoader\n",
    "from langchain.text_splitter import RecursiveCharacterTextSplitter\n",
    "\n",
    "# create a text splitter\n",
    "text_splitter = RecursiveCharacterTextSplitter(chunk_size=1000, chunk_overlap=200)\n",
    "\n",
    "#load and split defaults to recursiveCharacterTextSplitter anyway, but for clarity I define it\n",
    "docs_split = loader.load_and_split(text_splitter=text_splitter)"
   ]
  },
  {
   "cell_type": "code",
   "execution_count": 3,
   "metadata": {},
   "outputs": [],
   "source": [
    "#Docs = each page of the PDFs loaded\n",
    "print('no of docs after splitting, ' , len(docs_split))"
   ]
  },
  {
   "cell_type": "markdown",
   "metadata": {},
   "source": [
    "## Embed and store documents"
   ]
  },
  {
   "cell_type": "code",
   "execution_count": 7,
   "metadata": {},
   "outputs": [],
   "source": [
    "from langchain.embeddings import HuggingFaceEmbeddings, SentenceTransformerEmbeddings\n",
    "sbert_name = 'multi-qa-MiniLM-L6-cos-v1'\n",
    "sbert_embeddings = HuggingFaceEmbeddings(model_name=sbert_name)"
   ]
  },
  {
   "cell_type": "markdown",
   "metadata": {},
   "source": [
    "**Store documents in local chromadb instance**"
   ]
  },
  {
   "cell_type": "code",
   "execution_count": 8,
   "metadata": {},
   "outputs": [],
   "source": [
    "from langchain.vectorstores import Chroma\n",
    "\n",
    "persist_directory = './data/chroma/'\n",
    "\n",
    "!rm -rf ./data/chroma  # remove old database files if any\n",
    "\n",
    "vectordb = Chroma.from_documents(\n",
    "    documents=docs_split,\n",
    "    embedding=sbert_embeddings,\n",
    "    persist_directory=persist_directory\n",
    ")"
   ]
  },
  {
   "cell_type": "code",
   "execution_count": 9,
   "metadata": {},
   "outputs": [],
   "source": [
    "#thin wrapper around a vectordb for ingesting to a chain\n",
    "retriever = vectordb.as_retriever()"
   ]
  },
  {
   "cell_type": "markdown",
   "metadata": {},
   "source": [
    "## Set up Q&A Chain"
   ]
  },
  {
   "cell_type": "code",
   "execution_count": 10,
   "metadata": {},
   "outputs": [],
   "source": [
    "from langchain.chains import RetrievalQA\n",
    "from langchain.llms import OpenAI\n",
    "\n",
    "# create a retrieval chain\n",
    "# gpt-3.5-turbo-instruct replaced davinchi-003\n",
    "qa_chain = RetrievalQA.from_chain_type(\n",
    "\tllm=OpenAI(model=\"gpt-3.5-turbo-instruct\", temperature=0.0),\n",
    "\tchain_type=\"stuff\",\n",
    "\tretriever=retriever,\n",
    "\treturn_source_documents=True\n",
    ")"
   ]
  },
  {
   "cell_type": "markdown",
   "metadata": {},
   "source": [
    "## Q&Aing with documents :-)"
   ]
  },
  {
   "cell_type": "code",
   "execution_count": 11,
   "metadata": {},
   "outputs": [],
   "source": [
    "query = \"Can the watermark sensor be used with other dataloggers?\"\n",
    "response = qa_chain({\"query\": query})"
   ]
  },
  {
   "cell_type": "code",
   "execution_count": 12,
   "metadata": {},
   "outputs": [
    {
     "data": {
      "text/plain": [
       "\" I don't know.\""
      ]
     },
     "execution_count": 12,
     "metadata": {},
     "output_type": "execute_result"
    }
   ],
   "source": [
    "response['result']"
   ]
  },
  {
   "cell_type": "code",
   "execution_count": 13,
   "metadata": {},
   "outputs": [
    {
     "data": {
      "text/plain": [
       "[Document(page_content='53. USE WITH OTHER DATALOGGERS\\nThis gypsum block interface has been designed for use with the Skye DataHog or\\nMiniMet datalogger, using the 5.000 volt regulated sensor excitation supply.\\nIf it is to be used on other dataloggers, please ensure a 5V power supply else the\\ncalibration data supplied in this manual will be incorrect.\\nPlease also note that the interface is not protected against any power supply reversal.\\nWIRING DETAILS FOR WIRE ENDED SENSORS\\nRed Positive power supply (5V)\\nBlue Sensor outputGrey (cable screen) Power supply & output ground', metadata={'page': 4, 'source': 'https://drive.google.com/file/d/197YLPeWUY3HPQf0eQgteWM5g8DdMBtWd/view', 'title': 'Gypsum Block with DataHog interface.pdf'}),\n",
       " Document(page_content='42.  INSTALLATION\\nThe gypsum block sensor has been fitted with a logger interface which is inside the\\nsmall black box, in line with the sensor cable. This box is completely waterproof andcan be safely buried in the soil during installation if necessary.\\nThis sensor is recommended for applications with low to moderately low saline soils\\nof pH 4.5 or higher.\\nPlace the gypsum block in a container of water for ten minutes to saturate the block.Use an auger slightly larger than the sensor (which has approximately a 25 mm\\ndiameter) to drill a hole in the soil to the required depth. Make a small amount of soil/ water slurry using some earth from the hole, pour this into the hole just enough tocover the gypsum block.\\nUsing a pole or broom handle push the saturated gypsum block down to the bottom of\\nthe hole, taking care not to damage the signal wire or the interface box. A slot in thebase of the pole will help protect the wire during this process.', metadata={'page': 3, 'source': 'https://drive.google.com/file/d/197YLPeWUY3HPQf0eQgteWM5g8DdMBtWd/view', 'title': 'Gypsum Block with DataHog interface.pdf'}),\n",
       " Document(page_content='31.  INTRODUCTION\\nThe gypsum block soil moisture sensor is an electrical resistance type sensor with a\\nsignal output in ohms. It measures soil moisture or soil suction in units of centibarswhere zero centibars represents a saturated soil and 200 centibars represents a verydry soil.\\nIn order to be connected to the Skye DataHog or MiniMet datalogger an interface is\\nrequired to convert the resistance output of the sensor to millivolts.\\nThis manual describes the measurements obtained when using the gypsum block\\nsensors with Skye dataloggers via such as interface.', metadata={'page': 2, 'source': 'https://drive.google.com/file/d/197YLPeWUY3HPQf0eQgteWM5g8DdMBtWd/view', 'title': 'Gypsum Block with DataHog interface.pdf'}),\n",
       " Document(page_content='the hole, taking care not to damage the signal wire or the interface box. A slot in thebase of the pole will help protect the wire during this process.\\nRefill the hole with the original soil, tamping in small amounts at a time.Connect the round 5 pin plug at the cable end to the appropriate socket on the\\nDataHog or MiniMet datalogger (these sockets are usually labelled gypsum block).\\nAllow 24 hours for the gypsum block to stabilise before using the measurements.PLEASE REMEMBER THAT SOCKETS ON THE DATAHOG OR MINIMET\\nLOGGER ARE NOT WATERPROOF UNLESS THERE IS EITHER A SENSORPLUG OR WATERPROOF DUSTCAP FITTED.\\nWIRING DETAILS FOR DATAHOG CONNECTOR\\nPin 1 Red Positive power supply (5V)\\nPin 2 Blue Sensor outputPin 3 not connectedPin 4 not connectedPin 5 Grey (cable screen) Power supply & output ground', metadata={'page': 3, 'source': 'https://drive.google.com/file/d/197YLPeWUY3HPQf0eQgteWM5g8DdMBtWd/view', 'title': 'Gypsum Block with DataHog interface.pdf'})]"
      ]
     },
     "execution_count": 13,
     "metadata": {},
     "output_type": "execute_result"
    }
   ],
   "source": [
    "response['source_documents']"
   ]
  },
  {
   "cell_type": "code",
   "execution_count": 14,
   "metadata": {},
   "outputs": [],
   "source": [
    "query = \"What does it take to use the watermark sensor with another datalogger?\"\n",
    "response = qa_chain({\"query\": query})"
   ]
  },
  {
   "cell_type": "code",
   "execution_count": 15,
   "metadata": {},
   "outputs": [
    {
     "data": {
      "text/plain": [
       "' It is recommended to use the gypsum block interface with the Skye DataHog or MiniMet datalogger, using the 5.000 volt regulated sensor excitation supply. If using it with other dataloggers, a 5V power supply is needed to ensure correct calibration data. It is also important to note that the interface is not protected against power supply reversal.'"
      ]
     },
     "execution_count": 15,
     "metadata": {},
     "output_type": "execute_result"
    }
   ],
   "source": [
    "response['result']"
   ]
  },
  {
   "cell_type": "code",
   "execution_count": 16,
   "metadata": {},
   "outputs": [
    {
     "data": {
      "text/plain": [
       "[Document(page_content='53. USE WITH OTHER DATALOGGERS\\nThis gypsum block interface has been designed for use with the Skye DataHog or\\nMiniMet datalogger, using the 5.000 volt regulated sensor excitation supply.\\nIf it is to be used on other dataloggers, please ensure a 5V power supply else the\\ncalibration data supplied in this manual will be incorrect.\\nPlease also note that the interface is not protected against any power supply reversal.\\nWIRING DETAILS FOR WIRE ENDED SENSORS\\nRed Positive power supply (5V)\\nBlue Sensor outputGrey (cable screen) Power supply & output ground', metadata={'page': 4, 'source': 'https://drive.google.com/file/d/197YLPeWUY3HPQf0eQgteWM5g8DdMBtWd/view', 'title': 'Gypsum Block with DataHog interface.pdf'}),\n",
       " Document(page_content='42.  INSTALLATION\\nThe gypsum block sensor has been fitted with a logger interface which is inside the\\nsmall black box, in line with the sensor cable. This box is completely waterproof andcan be safely buried in the soil during installation if necessary.\\nThis sensor is recommended for applications with low to moderately low saline soils\\nof pH 4.5 or higher.\\nPlace the gypsum block in a container of water for ten minutes to saturate the block.Use an auger slightly larger than the sensor (which has approximately a 25 mm\\ndiameter) to drill a hole in the soil to the required depth. Make a small amount of soil/ water slurry using some earth from the hole, pour this into the hole just enough tocover the gypsum block.\\nUsing a pole or broom handle push the saturated gypsum block down to the bottom of\\nthe hole, taking care not to damage the signal wire or the interface box. A slot in thebase of the pole will help protect the wire during this process.', metadata={'page': 3, 'source': 'https://drive.google.com/file/d/197YLPeWUY3HPQf0eQgteWM5g8DdMBtWd/view', 'title': 'Gypsum Block with DataHog interface.pdf'}),\n",
       " Document(page_content='2CONTENTS\\n1.  INTRODUCTION ............................................................................................................... ..............3\\n2.  INSTALLATION ............................................................................................................... ...............4\\n3.  USE WITH OTHER DATALOGGERS..........................................................................................5\\n4.  INTERPRETATION OF READINGS ............................................................................................6\\nFIGURE 1 - SOIL SUCTION (BARS) V SENSOR RESISTANCE (OHMS) ..................................7\\nFIGURE 2 - SOIL SUCTION(BARS) V SOIL MOISTURE PERCENTAGE.................................8TABLE 1 - GYPSUM BLOCK SENSOR OUTPUTS IN OHMS ......................................................9\\nTABLE 2 - CONVERSION OF SOIL SUCTION UNITS ................................................................10', metadata={'page': 1, 'source': 'https://drive.google.com/file/d/197YLPeWUY3HPQf0eQgteWM5g8DdMBtWd/view', 'title': 'Gypsum Block with DataHog interface.pdf'}),\n",
       " Document(page_content='the hole, taking care not to damage the signal wire or the interface box. A slot in thebase of the pole will help protect the wire during this process.\\nRefill the hole with the original soil, tamping in small amounts at a time.Connect the round 5 pin plug at the cable end to the appropriate socket on the\\nDataHog or MiniMet datalogger (these sockets are usually labelled gypsum block).\\nAllow 24 hours for the gypsum block to stabilise before using the measurements.PLEASE REMEMBER THAT SOCKETS ON THE DATAHOG OR MINIMET\\nLOGGER ARE NOT WATERPROOF UNLESS THERE IS EITHER A SENSORPLUG OR WATERPROOF DUSTCAP FITTED.\\nWIRING DETAILS FOR DATAHOG CONNECTOR\\nPin 1 Red Positive power supply (5V)\\nPin 2 Blue Sensor outputPin 3 not connectedPin 4 not connectedPin 5 Grey (cable screen) Power supply & output ground', metadata={'page': 3, 'source': 'https://drive.google.com/file/d/197YLPeWUY3HPQf0eQgteWM5g8DdMBtWd/view', 'title': 'Gypsum Block with DataHog interface.pdf'})]"
      ]
     },
     "execution_count": 16,
     "metadata": {},
     "output_type": "execute_result"
    }
   ],
   "source": [
    "response['source_documents']"
   ]
  },
  {
   "cell_type": "markdown",
   "metadata": {},
   "source": [
    "# Varying the search algorithm and adding threshold\n",
    "From the above we saw the Q&A was not robust to the phrasing of the question, even if the answer was in the source document #1. \n",
    "Hypothesis: The LLM was fed with too much irrelevant context, that confused the LLM. Trying a different search algo with no good reason why it should outperform, and secondly limiting search results based on a certain threshold with the intention of not feeding the LLM with context that is not relevant thereby confusing the model."
   ]
  },
  {
   "cell_type": "markdown",
   "metadata": {},
   "source": [
    "## MMR (Maximal Marginal Relevance) search instead of similarity search. "
   ]
  },
  {
   "cell_type": "markdown",
   "metadata": {},
   "source": [
    "Inspecting the score of the current sources, reveals that #1 source is a 0.33 match, whereas the remainder is 0.11 or less, indicating that one document is a clear match and the others are garbage."
   ]
  },
  {
   "cell_type": "code",
   "execution_count": 65,
   "metadata": {},
   "outputs": [],
   "source": [
    "retriever = vectordb.as_retriever(search_type=\"mmr\")"
   ]
  },
  {
   "cell_type": "code",
   "execution_count": 66,
   "metadata": {},
   "outputs": [],
   "source": [
    "from langchain.chains import RetrievalQA\n",
    "from langchain.llms import OpenAI\n",
    "\n",
    "# create a retrieval chain\n",
    "# gpt-3.5-turbo-instruct replaced davinchi-003\n",
    "qa_chain_2 = RetrievalQA.from_chain_type(\n",
    "\tllm=OpenAI(model=\"gpt-3.5-turbo-instruct\", temperature=0.0),\n",
    "\tchain_type=\"stuff\",\n",
    "\tretriever=retriever,\n",
    "\treturn_source_documents=True\n",
    ")"
   ]
  },
  {
   "cell_type": "code",
   "execution_count": 67,
   "metadata": {},
   "outputs": [],
   "source": [
    "query = \"Can the watermark sensor be used with other dataloggers?\"\n",
    "response = qa_chain_2({\"query\": query})"
   ]
  },
  {
   "cell_type": "code",
   "execution_count": 68,
   "metadata": {},
   "outputs": [
    {
     "data": {
      "text/plain": [
       "' Yes, the gypsum block interface has been designed for use with the Skye DataHog or MiniMet datalogger, but it can also be used with other dataloggers as long as a 5V power supply is provided. However, please note that the interface is not protected against any power supply reversal.'"
      ]
     },
     "execution_count": 68,
     "metadata": {},
     "output_type": "execute_result"
    }
   ],
   "source": [
    "response['result']"
   ]
  },
  {
   "cell_type": "code",
   "execution_count": 69,
   "metadata": {},
   "outputs": [
    {
     "data": {
      "text/plain": [
       "[Document(page_content='53. USE WITH OTHER DATALOGGERS\\nThis gypsum block interface has been designed for use with the Skye DataHog or\\nMiniMet datalogger, using the 5.000 volt regulated sensor excitation supply.\\nIf it is to be used on other dataloggers, please ensure a 5V power supply else the\\ncalibration data supplied in this manual will be incorrect.\\nPlease also note that the interface is not protected against any power supply reversal.\\nWIRING DETAILS FOR WIRE ENDED SENSORS\\nRed Positive power supply (5V)\\nBlue Sensor outputGrey (cable screen) Power supply & output ground', metadata={'page': 4, 'source': 'https://drive.google.com/file/d/197YLPeWUY3HPQf0eQgteWM5g8DdMBtWd/view', 'title': 'Gypsum Block with DataHog interface.pdf'}),\n",
       " Document(page_content='G SM/GPRS Module \\n \\nLinkSpriteTechnologies, Inc.                   16                            www.linksprite.com  • Impedance: 2.2Kohm \\n• Sensitivity: -42dB(typ) \\n• SNR > 50dB min \\n• Frequency response compatible with the GSM specific ations \\n \\n2.5.4.1 Differential Connection \\n \\nFigure 5: MIC input (differential input) \\n \\nThe recommended characteristic of capacitors: \\nC1=22pF to 47pF \\nC2=C3=C4=47pF to 100pF \\nL1=L2=100nH \\nMicrophone manufacturer can provide a microphone so ldered C1 directly on it, so that C1 can \\nbe the nearest to the Microphone. \\n \\n2.5.4.2 Single-ended Connection  \\n \\nFigure 6: MIC input (single-ended input) \\nDo not recommend this connection. \\nWhen using a single-ended connection, be sure to ha ve a very good ground plane, a very \\ngood filtering as well as shielding in order to avo id any disturbance on the audio path. \\n \\nThe recommended characteristic: \\nC1=22pF to 47pF \\nC2= C3=47pF to 100pF', metadata={'page': 15, 'source': 'https://drive.google.com/file/d/1SJyFq7c-aUjB2P-SNUkxrQar6_dBnJIZ/view', 'title': 'SIM800Lmaybe-CEL-09533-User_s Manual.pdf'}),\n",
       " Document(page_content='Page 74 \\n \\n                                                                                                        RFM69HW \\nT el: +86-755-82973805  Fax: +86-755-82973550  E -mail: sales@hoperf.com http://www.hoperf.comADVANCED COMMUNICATIONS & SENSING DATASHEET  \\n \\n \\n \\nRegAesKey14 \\n(0x4B)  7-0 AesKey(23:16)  w 0x00 14th byte of cipher key  \\nRegAesKey15 \\n(0x4C)  7-0 AesKey(15:8)  w 0x00 15th byte of cipher key  \\nRegAesKey16 \\n(0x4D)  7-0 AesKey(7:0)  w 0x00 16th byte of cipher key (LSB byte)  \\n \\n \\n6.7.  Temperature Sensor Registers  \\nTable 29  Temperature Sensor Registers  \\n \\nName  \\n(Address)  Bits Variable Name  ModeDefault\\nValueDescription  \\n7-4 - r 0000 unused  \\n3 TempMeasStart  w 0 Triggers the temperature measurement when set. Always\\nreads 0.  \\n2 TempMeasRunning  r 0 Set to 1 while the temperature measurement is running.\\nToggles back to 0 when the measurement has completed. \\nThe receiver can not be used while measuring temperature\\n RegTemp1 \\n(0x4E)  \\n1-0 - r 01 unused  \\nRegTemp2', metadata={'page': 73, 'source': 'https://drive.google.com/file/d/1in_h6_yexuaCHgUwlGJQgF8scO8glW_x/view', 'title': 'RFM69HW-V1.3-Data Sheet.pdf'}),\n",
       " Document(page_content='7FIGURE 1 - Soil Suction (bars) v Sensor Resistance (ohms)', metadata={'page': 6, 'source': 'https://drive.google.com/file/d/197YLPeWUY3HPQf0eQgteWM5g8DdMBtWd/view', 'title': 'Gypsum Block with DataHog interface.pdf'})]"
      ]
     },
     "execution_count": 69,
     "metadata": {},
     "output_type": "execute_result"
    }
   ],
   "source": [
    "response['source_documents']"
   ]
  },
  {
   "cell_type": "markdown",
   "metadata": {},
   "source": [
    "## Setting threshold"
   ]
  },
  {
   "cell_type": "code",
   "execution_count": null,
   "metadata": {},
   "outputs": [
    {
     "data": {
      "text/plain": [
       "[(Document(page_content='53. USE WITH OTHER DATALOGGERS\\nThis gypsum block interface has been designed for use with the Skye DataHog or\\nMiniMet datalogger, using the 5.000 volt regulated sensor excitation supply.\\nIf it is to be used on other dataloggers, please ensure a 5V power supply else the\\ncalibration data supplied in this manual will be incorrect.\\nPlease also note that the interface is not protected against any power supply reversal.\\nWIRING DETAILS FOR WIRE ENDED SENSORS\\nRed Positive power supply (5V)\\nBlue Sensor outputGrey (cable screen) Power supply & output ground', metadata={'page': 4, 'source': 'https://drive.google.com/file/d/197YLPeWUY3HPQf0eQgteWM5g8DdMBtWd/view', 'title': 'Gypsum Block with DataHog interface.pdf'}),\n",
       "  0.3332993603339981),\n",
       " (Document(page_content='42.  INSTALLATION\\nThe gypsum block sensor has been fitted with a logger interface which is inside the\\nsmall black box, in line with the sensor cable. This box is completely waterproof andcan be safely buried in the soil during installation if necessary.\\nThis sensor is recommended for applications with low to moderately low saline soils\\nof pH 4.5 or higher.\\nPlace the gypsum block in a container of water for ten minutes to saturate the block.Use an auger slightly larger than the sensor (which has approximately a 25 mm\\ndiameter) to drill a hole in the soil to the required depth. Make a small amount of soil/ water slurry using some earth from the hole, pour this into the hole just enough tocover the gypsum block.\\nUsing a pole or broom handle push the saturated gypsum block down to the bottom of\\nthe hole, taking care not to damage the signal wire or the interface box. A slot in thebase of the pole will help protect the wire during this process.', metadata={'page': 3, 'source': 'https://drive.google.com/file/d/197YLPeWUY3HPQf0eQgteWM5g8DdMBtWd/view', 'title': 'Gypsum Block with DataHog interface.pdf'}),\n",
       "  0.11623622056658656),\n",
       " (Document(page_content='31.  INTRODUCTION\\nThe gypsum block soil moisture sensor is an electrical resistance type sensor with a\\nsignal output in ohms. It measures soil moisture or soil suction in units of centibarswhere zero centibars represents a saturated soil and 200 centibars represents a verydry soil.\\nIn order to be connected to the Skye DataHog or MiniMet datalogger an interface is\\nrequired to convert the resistance output of the sensor to millivolts.\\nThis manual describes the measurements obtained when using the gypsum block\\nsensors with Skye dataloggers via such as interface.', metadata={'page': 2, 'source': 'https://drive.google.com/file/d/197YLPeWUY3HPQf0eQgteWM5g8DdMBtWd/view', 'title': 'Gypsum Block with DataHog interface.pdf'}),\n",
       "  0.11541258685298672),\n",
       " (Document(page_content='the hole, taking care not to damage the signal wire or the interface box. A slot in thebase of the pole will help protect the wire during this process.\\nRefill the hole with the original soil, tamping in small amounts at a time.Connect the round 5 pin plug at the cable end to the appropriate socket on the\\nDataHog or MiniMet datalogger (these sockets are usually labelled gypsum block).\\nAllow 24 hours for the gypsum block to stabilise before using the measurements.PLEASE REMEMBER THAT SOCKETS ON THE DATAHOG OR MINIMET\\nLOGGER ARE NOT WATERPROOF UNLESS THERE IS EITHER A SENSORPLUG OR WATERPROOF DUSTCAP FITTED.\\nWIRING DETAILS FOR DATAHOG CONNECTOR\\nPin 1 Red Positive power supply (5V)\\nPin 2 Blue Sensor outputPin 3 not connectedPin 4 not connectedPin 5 Grey (cable screen) Power supply & output ground', metadata={'page': 3, 'source': 'https://drive.google.com/file/d/197YLPeWUY3HPQf0eQgteWM5g8DdMBtWd/view', 'title': 'Gypsum Block with DataHog interface.pdf'}),\n",
       "  0.05352541890504525)]"
      ]
     },
     "metadata": {},
     "output_type": "display_data"
    }
   ],
   "source": [
    "docs_w_threshold = vectordb.similarity_search_with_relevance_scores(query,k=4, score_threshold=0.0)\n",
    "docs_w_threshold"
   ]
  },
  {
   "cell_type": "code",
   "execution_count": 70,
   "metadata": {},
   "outputs": [],
   "source": [
    "retriever_thres = vectordb.as_retriever(search_type=\"similarity_score_threshold\", \n",
    "                                        search_kwargs={\"score_threshold\": .25, \"k\": 4})"
   ]
  },
  {
   "cell_type": "code",
   "execution_count": 71,
   "metadata": {},
   "outputs": [],
   "source": [
    "from langchain.chains import RetrievalQA\n",
    "from langchain.llms import OpenAI\n",
    "\n",
    "# create a retrieval chain\n",
    "# gpt-3.5-turbo-instruct replaced davinchi-003\n",
    "qa_chain_3 = RetrievalQA.from_chain_type(\n",
    "\tllm=OpenAI(model=\"gpt-3.5-turbo-instruct\", temperature=0.0),\n",
    "\tchain_type=\"stuff\",\n",
    "\tretriever=retriever_thres,\n",
    "\treturn_source_documents=True\n",
    ")"
   ]
  },
  {
   "cell_type": "code",
   "execution_count": 72,
   "metadata": {},
   "outputs": [],
   "source": [
    "query = \"Can the watermark sensor be used with other dataloggers?\"\n",
    "response = qa_chain_3({\"query\": query})"
   ]
  },
  {
   "cell_type": "code",
   "execution_count": 62,
   "metadata": {},
   "outputs": [
    {
     "data": {
      "text/plain": [
       "' Yes, the watermark sensor can be used with other dataloggers as long as a 5V power supply is provided and the interface is not protected against power supply reversal.'"
      ]
     },
     "execution_count": 62,
     "metadata": {},
     "output_type": "execute_result"
    }
   ],
   "source": [
    "response['result']"
   ]
  },
  {
   "cell_type": "code",
   "execution_count": 63,
   "metadata": {},
   "outputs": [
    {
     "data": {
      "text/plain": [
       "[Document(page_content='53. USE WITH OTHER DATALOGGERS\\nThis gypsum block interface has been designed for use with the Skye DataHog or\\nMiniMet datalogger, using the 5.000 volt regulated sensor excitation supply.\\nIf it is to be used on other dataloggers, please ensure a 5V power supply else the\\ncalibration data supplied in this manual will be incorrect.\\nPlease also note that the interface is not protected against any power supply reversal.\\nWIRING DETAILS FOR WIRE ENDED SENSORS\\nRed Positive power supply (5V)\\nBlue Sensor outputGrey (cable screen) Power supply & output ground', metadata={'page': 4, 'source': 'https://drive.google.com/file/d/197YLPeWUY3HPQf0eQgteWM5g8DdMBtWd/view', 'title': 'Gypsum Block with DataHog interface.pdf'})]"
      ]
     },
     "execution_count": 63,
     "metadata": {},
     "output_type": "execute_result"
    }
   ],
   "source": [
    "response['source_documents']"
   ]
  },
  {
   "cell_type": "code",
   "execution_count": null,
   "metadata": {},
   "outputs": [],
   "source": []
  }
 ],
 "metadata": {
  "kernelspec": {
   "display_name": "llm",
   "language": "python",
   "name": "python3"
  },
  "language_info": {
   "codemirror_mode": {
    "name": "ipython",
    "version": 3
   },
   "file_extension": ".py",
   "mimetype": "text/x-python",
   "name": "python",
   "nbconvert_exporter": "python",
   "pygments_lexer": "ipython3",
   "version": "3.11.4"
  },
  "orig_nbformat": 4
 },
 "nbformat": 4,
 "nbformat_minor": 2
}
