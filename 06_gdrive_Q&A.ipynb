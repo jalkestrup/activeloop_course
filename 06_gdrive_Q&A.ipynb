{
 "cells": [
  {
   "cell_type": "code",
   "execution_count": 1,
   "metadata": {},
   "outputs": [],
   "source": [
    "import os\n",
    "from dotenv import load_dotenv\n",
    "\n",
    "load_dotenv(override=True)\n",
    "\n",
    "OPENAI_API_KEY = os.environ.get(\"OPENAI_API_KEY\")\n",
    "GOOGLE_APPLICATION_CREDENTIALS = os.environ.get('GOOGLE_APPLICATION_CREDENTIALS')"
   ]
  },
  {
   "cell_type": "markdown",
   "metadata": {},
   "source": [
    "## Set up GooleDrive Authentication"
   ]
  },
  {
   "cell_type": "markdown",
   "metadata": {},
   "source": [
    "- Step 1: Enable Google Drive API on Google Cloud Platform\n",
    "- Step 2: Create OAth Application, of type desktop\n",
    "- Step 3: Download credentials, rename to credentials_desktop.json and move to project dir\n",
    "- Step 4: Manually create an empty token file by calling mkdir -p ~/.credentials/ (Perhaps a WSL/Langchain issue, should be created automatically) \n",
    "- Step 5: Run the Google Drive Loader and ctrl-click to open the link in a browser and authenticate"
   ]
  },
  {
   "cell_type": "code",
   "execution_count": 2,
   "metadata": {},
   "outputs": [],
   "source": [
    "from langchain.document_loaders import GoogleDriveLoader\n",
    "\n",
    "loader = GoogleDriveLoader(\n",
    "    folder_id=\"11Vpbdd4mC6GxlPNwg-GJdg4ovvvCFatq\",\n",
    "    #token_path='/path/where/you/want/token/to/be/created/google_token.json'\n",
    "    #file_types=[\"document\", \"sheet\"],\n",
    "    credentials_path=os.environ[\"GOOGLE_APPLICATION_CREDENTIALS\"],\n",
    "    recursive=False  # Optional: Fetch files from subfolders recursively. Defaults to False.\n",
    ")"
   ]
  },
  {
   "cell_type": "markdown",
   "metadata": {},
   "source": [
    "## Download and split documents"
   ]
  },
  {
   "cell_type": "code",
   "execution_count": 5,
   "metadata": {},
   "outputs": [],
   "source": [
    "# Downlad all files from the folder and turn into Langchain docs\n",
    "#per default pdfs are split so that 1 page is 1 doc\n",
    "#docs = loader.load()\n",
    "\n",
    "#Instead I use the text splitter to split the pdfs into chunks of 1000 characters with 200 characters overlap\n",
    "\n",
    "from langchain.document_loaders import PyPDFLoader\n",
    "from langchain.text_splitter import RecursiveCharacterTextSplitter\n",
    "\n",
    "# create a text splitter\n",
    "text_splitter = RecursiveCharacterTextSplitter(chunk_size=1000, chunk_overlap=200)\n",
    "\n",
    "#load and split defaults to recursiveCharacterTextSplitter anyway, but for clarity I define it\n",
    "docs_split = loader.load_and_split(text_splitter=text_splitter)"
   ]
  },
  {
   "cell_type": "code",
   "execution_count": 3,
   "metadata": {},
   "outputs": [],
   "source": [
    "#Docs = each page of the PDFs loaded\n",
    "print('no of docs after splitting, ' , len(docs_split))"
   ]
  },
  {
   "cell_type": "markdown",
   "metadata": {},
   "source": [
    "## Embed and store documents"
   ]
  },
  {
   "cell_type": "code",
   "execution_count": 7,
   "metadata": {},
   "outputs": [],
   "source": [
    "from langchain.embeddings import HuggingFaceEmbeddings, SentenceTransformerEmbeddings\n",
    "sbert_name = 'multi-qa-MiniLM-L6-cos-v1'\n",
    "sbert_embeddings = HuggingFaceEmbeddings(model_name=sbert_name)"
   ]
  },
  {
   "cell_type": "markdown",
   "metadata": {},
   "source": [
    "**Store documents in local chromadb instance**"
   ]
  },
  {
   "cell_type": "code",
   "execution_count": 8,
   "metadata": {},
   "outputs": [],
   "source": [
    "from langchain.vectorstores import Chroma\n",
    "\n",
    "persist_directory = './data/chroma/'\n",
    "\n",
    "!rm -rf ./data/chroma  # remove old database files if any\n",
    "\n",
    "vectordb = Chroma.from_documents(\n",
    "    documents=docs_split,\n",
    "    embedding=sbert_embeddings,\n",
    "    persist_directory=persist_directory\n",
    ")"
   ]
  },
  {
   "cell_type": "code",
   "execution_count": 9,
   "metadata": {},
   "outputs": [],
   "source": [
    "#thin wrapper around a vectordb for ingesting to a chain\n",
    "retriever = vectordb.as_retriever()"
   ]
  },
  {
   "cell_type": "markdown",
   "metadata": {},
   "source": [
    "## Set up Q&A Chain"
   ]
  },
  {
   "cell_type": "code",
   "execution_count": 10,
   "metadata": {},
   "outputs": [],
   "source": [
    "from langchain.chains import RetrievalQA\n",
    "from langchain.llms import OpenAI\n",
    "\n",
    "# create a retrieval chain\n",
    "# gpt-3.5-turbo-instruct replaced davinchi-003\n",
    "qa_chain = RetrievalQA.from_chain_type(\n",
    "\tllm=OpenAI(model=\"gpt-3.5-turbo-instruct\", temperature=0.0),\n",
    "\tchain_type=\"stuff\",\n",
    "\tretriever=retriever,\n",
    "\treturn_source_documents=True\n",
    ")"
   ]
  },
  {
   "cell_type": "markdown",
   "metadata": {},
   "source": [
    "## Q&Aing with documents :-)"
   ]
  },
  {
   "cell_type": "code",
   "execution_count": 11,
   "metadata": {},
   "outputs": [],
   "source": [
    "query = \"Can the watermark sensor be used with other dataloggers?\"\n",
    "response = qa_chain({\"query\": query})"
   ]
  },
  {
   "cell_type": "code",
   "execution_count": 12,
   "metadata": {},
   "outputs": [
    {
     "data": {
      "text/plain": [
       "\" I don't know.\""
      ]
     },
     "execution_count": 12,
     "metadata": {},
     "output_type": "execute_result"
    }
   ],
   "source": [
    "response['result']"
   ]
  },
  {
   "cell_type": "code",
   "execution_count": 13,
   "metadata": {},
   "outputs": [
    {
     "data": {
      "text/plain": [
       "[Document(page_content='53. USE WITH OTHER DATALOGGERS\\nThis gypsum block interface has been designed for use with the Skye DataHog or\\nMiniMet datalogger, using the 5.000 volt regulated sensor excitation supply.\\nIf it is to be used on other dataloggers, please ensure a 5V power supply else the\\ncalibration data supplied in this manual will be incorrect.\\nPlease also note that the interface is not protected against any power supply reversal.\\nWIRING DETAILS FOR WIRE ENDED SENSORS\\nRed Positive power supply (5V)\\nBlue Sensor outputGrey (cable screen) Power supply & output ground', metadata={'page': 4, 'source': 'https://drive.google.com/file/d/197YLPeWUY3HPQf0eQgteWM5g8DdMBtWd/view', 'title': 'Gypsum Block with DataHog interface.pdf'}),\n",
       " Document(page_content='42.  INSTALLATION\\nThe gypsum block sensor has been fitted with a logger interface which is inside the\\nsmall black box, in line with the sensor cable. This box is completely waterproof andcan be safely buried in the soil during installation if necessary.\\nThis sensor is recommended for applications with low to moderately low saline soils\\nof pH 4.5 or higher.\\nPlace the gypsum block in a container of water for ten minutes to saturate the block.Use an auger slightly larger than the sensor (which has approximately a 25 mm\\ndiameter) to drill a hole in the soil to the required depth. Make a small amount of soil/ water slurry using some earth from the hole, pour this into the hole just enough tocover the gypsum block.\\nUsing a pole or broom handle push the saturated gypsum block down to the bottom of\\nthe hole, taking care not to damage the signal wire or the interface box. A slot in thebase of the pole will help protect the wire during this process.', metadata={'page': 3, 'source': 'https://drive.google.com/file/d/197YLPeWUY3HPQf0eQgteWM5g8DdMBtWd/view', 'title': 'Gypsum Block with DataHog interface.pdf'}),\n",
       " Document(page_content='31.  INTRODUCTION\\nThe gypsum block soil moisture sensor is an electrical resistance type sensor with a\\nsignal output in ohms. It measures soil moisture or soil suction in units of centibarswhere zero centibars represents a saturated soil and 200 centibars represents a verydry soil.\\nIn order to be connected to the Skye DataHog or MiniMet datalogger an interface is\\nrequired to convert the resistance output of the sensor to millivolts.\\nThis manual describes the measurements obtained when using the gypsum block\\nsensors with Skye dataloggers via such as interface.', metadata={'page': 2, 'source': 'https://drive.google.com/file/d/197YLPeWUY3HPQf0eQgteWM5g8DdMBtWd/view', 'title': 'Gypsum Block with DataHog interface.pdf'}),\n",
       " Document(page_content='the hole, taking care not to damage the signal wire or the interface box. A slot in thebase of the pole will help protect the wire during this process.\\nRefill the hole with the original soil, tamping in small amounts at a time.Connect the round 5 pin plug at the cable end to the appropriate socket on the\\nDataHog or MiniMet datalogger (these sockets are usually labelled gypsum block).\\nAllow 24 hours for the gypsum block to stabilise before using the measurements.PLEASE REMEMBER THAT SOCKETS ON THE DATAHOG OR MINIMET\\nLOGGER ARE NOT WATERPROOF UNLESS THERE IS EITHER A SENSORPLUG OR WATERPROOF DUSTCAP FITTED.\\nWIRING DETAILS FOR DATAHOG CONNECTOR\\nPin 1 Red Positive power supply (5V)\\nPin 2 Blue Sensor outputPin 3 not connectedPin 4 not connectedPin 5 Grey (cable screen) Power supply & output ground', metadata={'page': 3, 'source': 'https://drive.google.com/file/d/197YLPeWUY3HPQf0eQgteWM5g8DdMBtWd/view', 'title': 'Gypsum Block with DataHog interface.pdf'})]"
      ]
     },
     "execution_count": 13,
     "metadata": {},
     "output_type": "execute_result"
    }
   ],
   "source": [
    "response['source_documents']"
   ]
  },
  {
   "cell_type": "code",
   "execution_count": 14,
   "metadata": {},
   "outputs": [],
   "source": [
    "query = \"What does it take to use the watermark sensor with another datalogger?\"\n",
    "response = qa_chain({\"query\": query})"
   ]
  },
  {
   "cell_type": "code",
   "execution_count": 15,
   "metadata": {},
   "outputs": [
    {
     "data": {
      "text/plain": [
       "' It is recommended to use the gypsum block interface with the Skye DataHog or MiniMet datalogger, using the 5.000 volt regulated sensor excitation supply. If using it with other dataloggers, a 5V power supply is needed to ensure correct calibration data. It is also important to note that the interface is not protected against power supply reversal.'"
      ]
     },
     "execution_count": 15,
     "metadata": {},
     "output_type": "execute_result"
    }
   ],
   "source": [
    "response['result']"
   ]
  },
  {
   "cell_type": "code",
   "execution_count": 16,
   "metadata": {},
   "outputs": [
    {
     "data": {
      "text/plain": [
       "[Document(page_content='53. USE WITH OTHER DATALOGGERS\\nThis gypsum block interface has been designed for use with the Skye DataHog or\\nMiniMet datalogger, using the 5.000 volt regulated sensor excitation supply.\\nIf it is to be used on other dataloggers, please ensure a 5V power supply else the\\ncalibration data supplied in this manual will be incorrect.\\nPlease also note that the interface is not protected against any power supply reversal.\\nWIRING DETAILS FOR WIRE ENDED SENSORS\\nRed Positive power supply (5V)\\nBlue Sensor outputGrey (cable screen) Power supply & output ground', metadata={'page': 4, 'source': 'https://drive.google.com/file/d/197YLPeWUY3HPQf0eQgteWM5g8DdMBtWd/view', 'title': 'Gypsum Block with DataHog interface.pdf'}),\n",
       " Document(page_content='42.  INSTALLATION\\nThe gypsum block sensor has been fitted with a logger interface which is inside the\\nsmall black box, in line with the sensor cable. This box is completely waterproof andcan be safely buried in the soil during installation if necessary.\\nThis sensor is recommended for applications with low to moderately low saline soils\\nof pH 4.5 or higher.\\nPlace the gypsum block in a container of water for ten minutes to saturate the block.Use an auger slightly larger than the sensor (which has approximately a 25 mm\\ndiameter) to drill a hole in the soil to the required depth. Make a small amount of soil/ water slurry using some earth from the hole, pour this into the hole just enough tocover the gypsum block.\\nUsing a pole or broom handle push the saturated gypsum block down to the bottom of\\nthe hole, taking care not to damage the signal wire or the interface box. A slot in thebase of the pole will help protect the wire during this process.', metadata={'page': 3, 'source': 'https://drive.google.com/file/d/197YLPeWUY3HPQf0eQgteWM5g8DdMBtWd/view', 'title': 'Gypsum Block with DataHog interface.pdf'}),\n",
       " Document(page_content='2CONTENTS\\n1.  INTRODUCTION ............................................................................................................... ..............3\\n2.  INSTALLATION ............................................................................................................... ...............4\\n3.  USE WITH OTHER DATALOGGERS..........................................................................................5\\n4.  INTERPRETATION OF READINGS ............................................................................................6\\nFIGURE 1 - SOIL SUCTION (BARS) V SENSOR RESISTANCE (OHMS) ..................................7\\nFIGURE 2 - SOIL SUCTION(BARS) V SOIL MOISTURE PERCENTAGE.................................8TABLE 1 - GYPSUM BLOCK SENSOR OUTPUTS IN OHMS ......................................................9\\nTABLE 2 - CONVERSION OF SOIL SUCTION UNITS ................................................................10', metadata={'page': 1, 'source': 'https://drive.google.com/file/d/197YLPeWUY3HPQf0eQgteWM5g8DdMBtWd/view', 'title': 'Gypsum Block with DataHog interface.pdf'}),\n",
       " Document(page_content='the hole, taking care not to damage the signal wire or the interface box. A slot in thebase of the pole will help protect the wire during this process.\\nRefill the hole with the original soil, tamping in small amounts at a time.Connect the round 5 pin plug at the cable end to the appropriate socket on the\\nDataHog or MiniMet datalogger (these sockets are usually labelled gypsum block).\\nAllow 24 hours for the gypsum block to stabilise before using the measurements.PLEASE REMEMBER THAT SOCKETS ON THE DATAHOG OR MINIMET\\nLOGGER ARE NOT WATERPROOF UNLESS THERE IS EITHER A SENSORPLUG OR WATERPROOF DUSTCAP FITTED.\\nWIRING DETAILS FOR DATAHOG CONNECTOR\\nPin 1 Red Positive power supply (5V)\\nPin 2 Blue Sensor outputPin 3 not connectedPin 4 not connectedPin 5 Grey (cable screen) Power supply & output ground', metadata={'page': 3, 'source': 'https://drive.google.com/file/d/197YLPeWUY3HPQf0eQgteWM5g8DdMBtWd/view', 'title': 'Gypsum Block with DataHog interface.pdf'})]"
      ]
     },
     "execution_count": 16,
     "metadata": {},
     "output_type": "execute_result"
    }
   ],
   "source": [
    "response['source_documents']"
   ]
  },
  {
   "cell_type": "code",
   "execution_count": null,
   "metadata": {},
   "outputs": [],
   "source": []
  }
 ],
 "metadata": {
  "kernelspec": {
   "display_name": "llm",
   "language": "python",
   "name": "python3"
  },
  "language_info": {
   "codemirror_mode": {
    "name": "ipython",
    "version": 3
   },
   "file_extension": ".py",
   "mimetype": "text/x-python",
   "name": "python",
   "nbconvert_exporter": "python",
   "pygments_lexer": "ipython3",
   "version": "3.11.4"
  },
  "orig_nbformat": 4
 },
 "nbformat": 4,
 "nbformat_minor": 2
}
