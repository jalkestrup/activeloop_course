{
 "cells": [
  {
   "cell_type": "code",
   "execution_count": 1,
   "metadata": {},
   "outputs": [],
   "source": [
    "import os\n",
    "from dotenv import load_dotenv\n",
    "\n",
    "load_dotenv(override=True)\n",
    "\n",
    "OPENAI_API_KEY = os.environ.get(\"OPENAI_API_KEY\")"
   ]
  },
  {
   "cell_type": "markdown",
   "metadata": {},
   "source": [
    "# Recursive splitting"
   ]
  },
  {
   "cell_type": "code",
   "execution_count": 12,
   "metadata": {},
   "outputs": [],
   "source": [
    "from langchain.document_loaders import PyPDFLoader\n",
    "from langchain.text_splitter import RecursiveCharacterTextSplitter\n",
    "\n",
    "# create a text splitter\n",
    "text_splitter = RecursiveCharacterTextSplitter(chunk_size=500, \n",
    "                                               chunk_overlap=50,\n",
    "                                               length_function=len)\n",
    "\n",
    "\n",
    "loader = PyPDFLoader(\"data/dagpengeguide-2023.pdf\")\n",
    "#load and split defaults to recursiveCharacterTextSplitter anyway, but for clarity I define it\n",
    "pages = loader.load_and_split(text_splitter=text_splitter)"
   ]
  },
  {
   "cell_type": "code",
   "execution_count": 13,
   "metadata": {},
   "outputs": [
    {
     "name": "stdout",
     "output_type": "stream",
     "text": [
      "4Mens du modtager dagpenge, er der en række \n",
      "møder og samtaler, som du skal deltage i. Mø -\n",
      "derne og samtalerne er vigtige værktøjer til af -\n",
      "klaring af din situation og til at guide dig videre \n",
      "på vejen mod det næste job.\n",
      "Møder og samtaler – det første halve år \n",
      "Når du har meldt dig ledig hos jobcentret, får du \n",
      "et brev fra os, hvor du er booket til en personlig \n",
      "vejledningssamtale hvor vi mødes fysisk. Samta -\n",
      "len skal finde sted inden for to uger, efter du har \n",
      "meldt dig ledig hos jobcentret.\n"
     ]
    }
   ],
   "source": [
    "print(pages[5].page_content)"
   ]
  },
  {
   "cell_type": "markdown",
   "metadata": {},
   "source": [
    "## On Tokens instead of chars\n",
    "**Seems like sentences are no longer split by meaningfull characters line line changes and .**\n",
    "\n",
    "By calling tiktokken_encoder\n",
    "\n",
    "\"We can use RecursiveCharacterTextSplitter.from_tiktoken_encoder to make sure splits are not larger than chunk size of tokens allowed by the language model, where each split will be recursively split if it has a larger size.\""
   ]
  },
  {
   "cell_type": "code",
   "execution_count": 14,
   "metadata": {},
   "outputs": [
    {
     "name": "stdout",
     "output_type": "stream",
     "text": [
      "page_content='et ledighedsforløb på to år.\\nKom til møderne og samtalerne \\nDu skal altid  være tilgængelig på telefonen eller \\nkomme til det virtuelle eller fysiske møde med \\nos. Det er f.eks. dit ansvar, at sørge for, at være \\nlogget på et virtuelt møde til tiden eller sørge \\nfor at godkende vores nummer/jobcenterets \\nnummer på din telefon hvis den er sat op til at \\nbegrænse adgang for ukendte numre. Husk at \\nmelde afbud, hvis du er forhindret i at holde \\nmøde med os på grund af egen sygdom, job -\\nsamtale, arbejde, aktivering eller rettidig med -\\ndelt ferie. Du skal melde afbud inden mødets \\nstart til den, der har indkaldt dig, uanset om det \\ner os, jobcentret eller anden aktør.Møder og \\nsamtaler' metadata={'source': 'data/dagpengeguide-2023.pdf', 'page': 3}\n"
     ]
    }
   ],
   "source": [
    "from langchain.document_loaders import PyPDFLoader\n",
    "from langchain.text_splitter import RecursiveCharacterTextSplitter\n",
    "\n",
    "# create a text splitter\n",
    "text_splitter = RecursiveCharacterTextSplitter.from_tiktoken_encoder(chunk_size=500, \n",
    "                                               chunk_overlap=50)\n",
    "\n",
    "\n",
    "loader = PyPDFLoader(\"data/dagpengeguide-2023.pdf\")\n",
    "#load and split defaults to recursiveCharacterTextSplitter anyway, but for clarity I define it\n",
    "pages = loader.load_and_split(text_splitter=text_splitter)\n",
    "\n",
    "print(pages[5])"
   ]
  },
  {
   "cell_type": "code",
   "execution_count": 15,
   "metadata": {},
   "outputs": [
    {
     "name": "stdout",
     "output_type": "stream",
     "text": [
      "et ledighedsforløb på to år.\n",
      "Kom til møderne og samtalerne \n",
      "Du skal altid  være tilgængelig på telefonen eller \n",
      "komme til det virtuelle eller fysiske møde med \n",
      "os. Det er f.eks. dit ansvar, at sørge for, at være \n",
      "logget på et virtuelt møde til tiden eller sørge \n",
      "for at godkende vores nummer/jobcenterets \n",
      "nummer på din telefon hvis den er sat op til at \n",
      "begrænse adgang for ukendte numre. Husk at \n",
      "melde afbud, hvis du er forhindret i at holde \n",
      "møde med os på grund af egen sygdom, job -\n",
      "samtale, arbejde, aktivering eller rettidig med -\n",
      "delt ferie. Du skal melde afbud inden mødets \n",
      "start til den, der har indkaldt dig, uanset om det \n",
      "er os, jobcentret eller anden aktør.Møder og \n",
      "samtaler\n"
     ]
    }
   ],
   "source": [
    "print(pages[5].page_content)"
   ]
  },
  {
   "cell_type": "code",
   "execution_count": null,
   "metadata": {},
   "outputs": [],
   "source": []
  }
 ],
 "metadata": {
  "kernelspec": {
   "display_name": "llm",
   "language": "python",
   "name": "python3"
  },
  "language_info": {
   "codemirror_mode": {
    "name": "ipython",
    "version": 3
   },
   "file_extension": ".py",
   "mimetype": "text/x-python",
   "name": "python",
   "nbconvert_exporter": "python",
   "pygments_lexer": "ipython3",
   "version": "3.11.4"
  },
  "orig_nbformat": 4
 },
 "nbformat": 4,
 "nbformat_minor": 2
}
