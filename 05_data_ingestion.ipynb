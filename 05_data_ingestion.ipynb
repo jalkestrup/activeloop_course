{
 "cells": [
  {
   "cell_type": "code",
   "execution_count": 1,
   "metadata": {},
   "outputs": [],
   "source": [
    "import os\n",
    "from dotenv import load_dotenv\n",
    "\n",
    "load_dotenv(override=True)\n",
    "\n",
    "OPENAI_API_KEY = os.environ.get(\"OPENAI_API_KEY\")\n",
    "ACTIVELOOP_TOKEN = os.environ.get('ACTIVELOOP_TOKEN')\n",
    "GOOGLE_CSE_ID = os.environ.get('GOOGLE_CSE_ID')\n",
    "GOOGLE_API_KEY = os.environ.get('GOOGLE_API_KEY')\n",
    "GOOGLE_APPLICATION_CREDENTIALS = os.environ.get('GOOGLE_APPLICATION_CREDENTIALS')"
   ]
  },
  {
   "cell_type": "markdown",
   "metadata": {},
   "source": [
    "## .TextLoader, Simple txt file\n",
    "Textloader loads a txt file and returns a LangChain document containing the page_content and metadata.\n",
    "\n",
    "Option to add -encoding argument or utilize the autodetect_ecoding function\n"
   ]
  },
  {
   "cell_type": "code",
   "execution_count": 12,
   "metadata": {},
   "outputs": [
    {
     "name": "stdout",
     "output_type": "stream",
     "text": [
      "Page content (first 50 chars): Take the guesswork out of irrigation\n",
      "We offer a si\n",
      "Meta data:  {'source': 'data/soilsense_info.txt'}\n"
     ]
    }
   ],
   "source": [
    "from langchain.document_loaders import TextLoader\n",
    "\n",
    "# use TextLoader to load text from local file\n",
    "# The TextLoader converts the text into a LangChhain document: a piece of text (the .txt) and metadata\n",
    "loader = TextLoader(\"data/soilsense_info.txt\", autodetect_encoding=True)\n",
    "docs_from_file = loader.load()\n",
    "\n",
    "# print the first 50 characters of the first document\n",
    "print('Page content (first 50 chars):', docs_from_file[0].page_content[0:50])\n",
    "print('Meta data: ', docs_from_file[0].metadata)"
   ]
  },
  {
   "cell_type": "markdown",
   "metadata": {},
   "source": [
    "### .PyPDFLoader, PDF files\n",
    "The LangChain library provides two methods for loading and processing PDF files: PyPDFLoader and PDFMinerLoader. \n",
    "\n",
    "- PyPDFLoader is a wrapper for the PyPDF2 library, which is the most commonly used tool and simple to get started\n",
    "-  PDFMinerLoader More capable extraction capabilities than PyPDFLoader but more difficult to set up\n",
    "- More tools exist https://python.langchain.com/docs/modules/data_connection/document_loaders/pdf\n",
    "\n",
    "Review of PyPDF, PDFMiner and 2 more> https://medium.com/social-impact-analytics/comparing-4-methods-for-pdf-text-extraction-in-python-fd34531034f "
   ]
  },
  {
   "cell_type": "code",
   "execution_count": 14,
   "metadata": {},
   "outputs": [
    {
     "name": "stdout",
     "output_type": "stream",
     "text": [
      "page_content='1\\nEn guide \\ntil dig,\\nder modtager \\ndagpenge' metadata={'source': 'data/dagpengeguide-2023.pdf', 'page': 0}\n"
     ]
    }
   ],
   "source": [
    "from langchain.document_loaders import PyPDFLoader\n",
    "from langchain.text_splitter import RecursiveCharacterTextSplitter\n",
    "\n",
    "# create a text splitter\n",
    "text_splitter = RecursiveCharacterTextSplitter(chunk_size=200, chunk_overlap=20)\n",
    "\n",
    "\n",
    "loader = PyPDFLoader(\"data/dagpengeguide-2023.pdf\")\n",
    "#load and split defaults to recursiveCharacterTextSplitter anyway, but for clarity I define it\n",
    "pages = loader.load_and_split(text_splitter=text_splitter)\n",
    "\n",
    "print(pages[0])"
   ]
  },
  {
   "cell_type": "markdown",
   "metadata": {},
   "source": [
    "### WebBaseLoader (Web pages, HTML)"
   ]
  },
  {
   "cell_type": "markdown",
   "metadata": {},
   "source": [
    "Use WebBaseLoader to load all text from HTML webpages by calling urllib to download the page and then using BeautifulSoup to extract the text."
   ]
  },
  {
   "cell_type": "code",
   "execution_count": 16,
   "metadata": {},
   "outputs": [],
   "source": [
    "from langchain.document_loaders import WebBaseLoader\n",
    "\n",
    "soilsense_urls = [\"https://soilsense.io/\", \"https://soilsense.io/sensors-en\",\n",
    "                  \"https://soilsense.io/system-en\",\"https://soilsense.io/dashboard-en\",\n",
    "                \"https://soilsense.io/soil-moisture-sensors-en\", \"https://soilsense.io/smart-farming-en\",\n",
    "                \"https://soilsense.io/cases\", \"https://soilsense.io/orchards\",\"https://soilsense.io/greenhouses\",\n",
    "                \"https://soilsense.io/digital-smart-irrometer-watermark\",\"https://soilsense.io/about-en\",\n",
    "                \"https://soilsense.io/blog/tpost/d0jafmpzt1-precision-irrigation-a-simple-guide-to-s\",\n",
    "                \"https://soilsense.io/blog/tpost/otk772c4g1-matric-potential-and-volumetric-water-co\",\n",
    "                \"https://soilsense.io/blog/tpost/ffvu68rr81-soil-moisture-sensors-or-satellite-data\"]\n",
    "\n",
    "loader = WebBaseLoader(soilsense_urls)\n",
    "url_docs = loader.load()"
   ]
  },
  {
   "cell_type": "code",
   "execution_count": 17,
   "metadata": {},
   "outputs": [
    {
     "name": "stdout",
     "output_type": "stream",
     "text": [
      " SoilSense - soil moisture sensors for the future of agriculture SoilSense ProductSensorsWireless SystemOnline DashboardDigital farmingSoil Moisture SensorsSmart FarmingUse CasesIrrometer DigitalizedAbout usBuy nowConsultationBlogLog inLanguageEnglishDanskPolskiEspañolSoilSense ProductSensorsWireless SystemOnline DashboardDigital farmingSoil Moisture SensorsSmart FarmingUse CasesIrrometer DigitalizedAbout usBuy nowConsultationBlogLog in Make the smartest irrigation decisionsSoilSense wireless soil moisture sensor system analyzes data in real-time to provide you with direct insights on how much water your crops needBook a free consultationRead moreTake the guesswork out of irrigation  We offer a simple, robust and affordable soil sensor system to help orchard managers, greenhouse growers and high-value field crop farmers manage and optimize irrigation                         Save waterAvoid over-irrigation and irrigate only when necessaryIncrease yieldIrrigate correctly throughout the v\n"
     ]
    }
   ],
   "source": [
    "print(url_docs[0].page_content[:1000])"
   ]
  },
  {
   "cell_type": "markdown",
   "metadata": {},
   "source": [
    "### .SeleniumURLLoader (Websites w. Javascript)\n",
    "**Issue of WebBaseLoader**: When you request a webpage using a library like requests or aiohttp, you're getting the initial HTML of the page, but any content that's loaded via JavaScript after the page loads will not be included. That's why you might see template tags like (item.price)}} taka instead of the actual values. Those tags are placeholders that get filled in with actual data by JavaScript after the page loads.\\\n",
    "\n",
    "https://github.com/langchain-ai/langchain/issues/4838\n"
   ]
  },
  {
   "cell_type": "markdown",
   "metadata": {},
   "source": [
    "**FAILS TO RUN DUE TO CHROMEDRIVER ISSUE**\n",
    "https://stackoverflow.com/questions/49323099/webdriverexception-message-service-chromedriver-unexpectedly-exited-status-co\n",
    "\n",
    "**Skip for now**"
   ]
  },
  {
   "cell_type": "code",
   "execution_count": null,
   "metadata": {},
   "outputs": [],
   "source": [
    "from langchain.document_loaders import SeleniumURLLoader\n",
    "\n",
    "urls_javascript = [\n",
    "    \"https://www.youtube.com/watch?v=TFa539R09EQ&t=139s\",\n",
    "    \"https://www.youtube.com/watch?v=6Zv6A_9urh4&t=112s\"\n",
    "]\n",
    "\n",
    "loader = SeleniumURLLoader(urls=soilsense_urls)\n",
    "url_docs = loader.load()\n",
    "\n",
    "print(url_docs[0].page_content)"
   ]
  },
  {
   "cell_type": "markdown",
   "metadata": {},
   "source": [
    "### GoogleDriveLoader (Google Drive)\n"
   ]
  },
  {
   "cell_type": "markdown",
   "metadata": {},
   "source": [
    "- Step 1: Enable Google Drive API on Google Cloud Platform\n",
    "- Step 2: Create OAth Application, of type desktop\n",
    "- Step 3: Download credentials_desktop.json\n",
    "- Step 4: Manually create an empty token file by calling mkdir -p ~/.credentials/ (Perhaps because of WSL/Langchain issue) \n",
    "- Step 5: Run the Google Drive Loader and ctrl-click to open the link in a browser and authenticate"
   ]
  },
  {
   "cell_type": "code",
   "execution_count": 9,
   "metadata": {},
   "outputs": [],
   "source": [
    "from langchain.document_loaders import GoogleDriveLoader\n",
    "\n",
    "loader = GoogleDriveLoader(\n",
    "    folder_id=\"11Vpbdd4mC6GxlPNwg-GJdg4ovvvCFatq\",\n",
    "    #token_path='/path/where/you/want/token/to/be/created/google_token.json'\n",
    "    #file_types=[\"document\", \"sheet\"],\n",
    "    credentials_path=os.environ[\"GOOGLE_APPLICATION_CREDENTIALS\"],\n",
    "    recursive=False  # Optional: Fetch files from subfolders recursively. Defaults to False.\n",
    ")\n",
    "\n",
    "docs = loader.load()"
   ]
  },
  {
   "cell_type": "code",
   "execution_count": 13,
   "metadata": {},
   "outputs": [
    {
     "data": {
      "text/plain": [
       "284"
      ]
     },
     "execution_count": 13,
     "metadata": {},
     "output_type": "execute_result"
    }
   ],
   "source": [
    "#Docs = each page of the PDFs loaded\n",
    "len(docs)"
   ]
  },
  {
   "cell_type": "code",
   "execution_count": 14,
   "metadata": {},
   "outputs": [
    {
     "data": {
      "text/plain": [
       "'42.  INSTALLATION\\nThe gypsum block sensor has been fitted with a logger interface which is inside the\\nsmall black box, in line with the sensor cable. This box is completely waterproof andcan be safely buried in the soil during installation if necessary.\\nThis sensor is recommended for applications with low to moderately low saline soils\\nof pH 4.5 or higher.\\nPlace the gypsum block in a container of water for ten minutes to saturate the block.Use an auger slightly larger than the sensor (which has approximately a 25 mm\\ndiameter) to drill a hole in the soil to the required depth. Make a small amount of soil/ water slurry using some earth from the hole, pour this into the hole just enough tocover the gypsum block.\\nUsing a pole or broom handle push the saturated gypsum block down to the bottom of\\nthe hole, taking care not to damage the signal wire or the interface box. A slot in thebase of the pole will help protect the wire during this process.\\nRefill the hole with the original soil, tampin'"
      ]
     },
     "execution_count": 14,
     "metadata": {},
     "output_type": "execute_result"
    }
   ],
   "source": [
    "docs[3].page_content[:1000]"
   ]
  },
  {
   "cell_type": "code",
   "execution_count": 12,
   "metadata": {},
   "outputs": [
    {
     "data": {
      "text/plain": [
       "{'source': 'https://drive.google.com/file/d/197YLPeWUY3HPQf0eQgteWM5g8DdMBtWd/view',\n",
       " 'title': 'Gypsum Block with DataHog interface.pdf',\n",
       " 'page': 3}"
      ]
     },
     "execution_count": 12,
     "metadata": {},
     "output_type": "execute_result"
    }
   ],
   "source": [
    "docs[3].metadata"
   ]
  },
  {
   "cell_type": "markdown",
   "metadata": {},
   "source": [
    "## Chat with PDF folder on Google Drive\n"
   ]
  },
  {
   "cell_type": "code",
   "execution_count": 15,
   "metadata": {},
   "outputs": [],
   "source": [
    "from langchain.document_loaders import PyPDFLoader\n",
    "from langchain.text_splitter import RecursiveCharacterTextSplitter\n",
    "\n",
    "# create a text splitter\n",
    "text_splitter = RecursiveCharacterTextSplitter(chunk_size=1000, chunk_overlap=200)\n",
    "\n",
    "#load and split defaults to recursiveCharacterTextSplitter anyway, but for clarity I define it\n",
    "docs_split = loader.load_and_split(text_splitter=text_splitter)"
   ]
  },
  {
   "cell_type": "code",
   "execution_count": 17,
   "metadata": {},
   "outputs": [
    {
     "name": "stdout",
     "output_type": "stream",
     "text": [
      "no of docs after splitting,  707\n"
     ]
    }
   ],
   "source": [
    "#Docs = each page of the PDFs loaded\n",
    "print('no of docs after splitting, ' , len(docs_split))"
   ]
  },
  {
   "cell_type": "code",
   "execution_count": 18,
   "metadata": {},
   "outputs": [],
   "source": [
    "from langchain.embeddings import HuggingFaceEmbeddings, SentenceTransformerEmbeddings\n",
    "sbert_name = 'multi-qa-MiniLM-L6-cos-v1'\n",
    "sbert_embeddings = HuggingFaceEmbeddings(model_name=sbert_name)"
   ]
  },
  {
   "cell_type": "code",
   "execution_count": 19,
   "metadata": {},
   "outputs": [],
   "source": [
    "from langchain.vectorstores import Chroma\n",
    "\n",
    "persist_directory = './data/chroma/'\n",
    "\n",
    "!rm -rf ./data/chroma  # remove old database files if any\n",
    "\n",
    "vectordb = Chroma.from_documents(\n",
    "    documents=docs_split,\n",
    "    embedding=sbert_embeddings,\n",
    "    persist_directory=persist_directory\n",
    ")\n"
   ]
  },
  {
   "cell_type": "code",
   "execution_count": 20,
   "metadata": {},
   "outputs": [],
   "source": [
    "retriever = vectordb.as_retriever()"
   ]
  },
  {
   "cell_type": "code",
   "execution_count": 27,
   "metadata": {},
   "outputs": [],
   "source": [
    "from langchain.chains import RetrievalQA\n",
    "from langchain.llms import OpenAI\n",
    "\n",
    "# create a retrieval chain\n",
    "# gpt-3.5-turbo-instruct replaced davinchi-003\n",
    "qa_chain = RetrievalQA.from_chain_type(\n",
    "\tllm=OpenAI(model=\"gpt-3.5-turbo-instruct\", temperature=0.0),\n",
    "\tchain_type=\"stuff\",\n",
    "\tretriever=retriever,\n",
    "\treturn_source_documents=True\n",
    ")"
   ]
  },
  {
   "cell_type": "code",
   "execution_count": 30,
   "metadata": {},
   "outputs": [],
   "source": [
    "query = \"Can the watermark sensor be used with other dataloggers?\"\n",
    "response = qa_chain({\"query\": query})"
   ]
  },
  {
   "cell_type": "code",
   "execution_count": 32,
   "metadata": {},
   "outputs": [
    {
     "data": {
      "text/plain": [
       "\" I don't know.\""
      ]
     },
     "execution_count": 32,
     "metadata": {},
     "output_type": "execute_result"
    }
   ],
   "source": [
    "response['result']"
   ]
  },
  {
   "cell_type": "code",
   "execution_count": 33,
   "metadata": {},
   "outputs": [
    {
     "data": {
      "text/plain": [
       "[Document(page_content='53. USE WITH OTHER DATALOGGERS\\nThis gypsum block interface has been designed for use with the Skye DataHog or\\nMiniMet datalogger, using the 5.000 volt regulated sensor excitation supply.\\nIf it is to be used on other dataloggers, please ensure a 5V power supply else the\\ncalibration data supplied in this manual will be incorrect.\\nPlease also note that the interface is not protected against any power supply reversal.\\nWIRING DETAILS FOR WIRE ENDED SENSORS\\nRed Positive power supply (5V)\\nBlue Sensor outputGrey (cable screen) Power supply & output ground', metadata={'page': 4, 'source': 'https://drive.google.com/file/d/197YLPeWUY3HPQf0eQgteWM5g8DdMBtWd/view', 'title': 'Gypsum Block with DataHog interface.pdf'}),\n",
       " Document(page_content='42.  INSTALLATION\\nThe gypsum block sensor has been fitted with a logger interface which is inside the\\nsmall black box, in line with the sensor cable. This box is completely waterproof andcan be safely buried in the soil during installation if necessary.\\nThis sensor is recommended for applications with low to moderately low saline soils\\nof pH 4.5 or higher.\\nPlace the gypsum block in a container of water for ten minutes to saturate the block.Use an auger slightly larger than the sensor (which has approximately a 25 mm\\ndiameter) to drill a hole in the soil to the required depth. Make a small amount of soil/ water slurry using some earth from the hole, pour this into the hole just enough tocover the gypsum block.\\nUsing a pole or broom handle push the saturated gypsum block down to the bottom of\\nthe hole, taking care not to damage the signal wire or the interface box. A slot in thebase of the pole will help protect the wire during this process.', metadata={'page': 3, 'source': 'https://drive.google.com/file/d/197YLPeWUY3HPQf0eQgteWM5g8DdMBtWd/view', 'title': 'Gypsum Block with DataHog interface.pdf'}),\n",
       " Document(page_content='31.  INTRODUCTION\\nThe gypsum block soil moisture sensor is an electrical resistance type sensor with a\\nsignal output in ohms. It measures soil moisture or soil suction in units of centibarswhere zero centibars represents a saturated soil and 200 centibars represents a verydry soil.\\nIn order to be connected to the Skye DataHog or MiniMet datalogger an interface is\\nrequired to convert the resistance output of the sensor to millivolts.\\nThis manual describes the measurements obtained when using the gypsum block\\nsensors with Skye dataloggers via such as interface.', metadata={'page': 2, 'source': 'https://drive.google.com/file/d/197YLPeWUY3HPQf0eQgteWM5g8DdMBtWd/view', 'title': 'Gypsum Block with DataHog interface.pdf'}),\n",
       " Document(page_content='the hole, taking care not to damage the signal wire or the interface box. A slot in thebase of the pole will help protect the wire during this process.\\nRefill the hole with the original soil, tamping in small amounts at a time.Connect the round 5 pin plug at the cable end to the appropriate socket on the\\nDataHog or MiniMet datalogger (these sockets are usually labelled gypsum block).\\nAllow 24 hours for the gypsum block to stabilise before using the measurements.PLEASE REMEMBER THAT SOCKETS ON THE DATAHOG OR MINIMET\\nLOGGER ARE NOT WATERPROOF UNLESS THERE IS EITHER A SENSORPLUG OR WATERPROOF DUSTCAP FITTED.\\nWIRING DETAILS FOR DATAHOG CONNECTOR\\nPin 1 Red Positive power supply (5V)\\nPin 2 Blue Sensor outputPin 3 not connectedPin 4 not connectedPin 5 Grey (cable screen) Power supply & output ground', metadata={'page': 3, 'source': 'https://drive.google.com/file/d/197YLPeWUY3HPQf0eQgteWM5g8DdMBtWd/view', 'title': 'Gypsum Block with DataHog interface.pdf'})]"
      ]
     },
     "execution_count": 33,
     "metadata": {},
     "output_type": "execute_result"
    }
   ],
   "source": [
    "response['source_documents']"
   ]
  },
  {
   "cell_type": "code",
   "execution_count": 34,
   "metadata": {},
   "outputs": [],
   "source": [
    "query = \"What does it take to use the watermark sensor with another datalogger?\"\n",
    "response = qa_chain({\"query\": query})"
   ]
  },
  {
   "cell_type": "code",
   "execution_count": 35,
   "metadata": {},
   "outputs": [
    {
     "data": {
      "text/plain": [
       "' It is recommended to use the gypsum block interface with the Skye DataHog or MiniMet datalogger, using the 5.000 volt regulated sensor excitation supply. If using it with other dataloggers, a 5V power supply is needed to ensure correct calibration data. It is also important to note that the interface is not protected against power supply reversal.'"
      ]
     },
     "execution_count": 35,
     "metadata": {},
     "output_type": "execute_result"
    }
   ],
   "source": [
    "response['result']"
   ]
  },
  {
   "cell_type": "code",
   "execution_count": 36,
   "metadata": {},
   "outputs": [
    {
     "data": {
      "text/plain": [
       "[Document(page_content='53. USE WITH OTHER DATALOGGERS\\nThis gypsum block interface has been designed for use with the Skye DataHog or\\nMiniMet datalogger, using the 5.000 volt regulated sensor excitation supply.\\nIf it is to be used on other dataloggers, please ensure a 5V power supply else the\\ncalibration data supplied in this manual will be incorrect.\\nPlease also note that the interface is not protected against any power supply reversal.\\nWIRING DETAILS FOR WIRE ENDED SENSORS\\nRed Positive power supply (5V)\\nBlue Sensor outputGrey (cable screen) Power supply & output ground', metadata={'page': 4, 'source': 'https://drive.google.com/file/d/197YLPeWUY3HPQf0eQgteWM5g8DdMBtWd/view', 'title': 'Gypsum Block with DataHog interface.pdf'}),\n",
       " Document(page_content='42.  INSTALLATION\\nThe gypsum block sensor has been fitted with a logger interface which is inside the\\nsmall black box, in line with the sensor cable. This box is completely waterproof andcan be safely buried in the soil during installation if necessary.\\nThis sensor is recommended for applications with low to moderately low saline soils\\nof pH 4.5 or higher.\\nPlace the gypsum block in a container of water for ten minutes to saturate the block.Use an auger slightly larger than the sensor (which has approximately a 25 mm\\ndiameter) to drill a hole in the soil to the required depth. Make a small amount of soil/ water slurry using some earth from the hole, pour this into the hole just enough tocover the gypsum block.\\nUsing a pole or broom handle push the saturated gypsum block down to the bottom of\\nthe hole, taking care not to damage the signal wire or the interface box. A slot in thebase of the pole will help protect the wire during this process.', metadata={'page': 3, 'source': 'https://drive.google.com/file/d/197YLPeWUY3HPQf0eQgteWM5g8DdMBtWd/view', 'title': 'Gypsum Block with DataHog interface.pdf'}),\n",
       " Document(page_content='2CONTENTS\\n1.  INTRODUCTION ............................................................................................................... ..............3\\n2.  INSTALLATION ............................................................................................................... ...............4\\n3.  USE WITH OTHER DATALOGGERS..........................................................................................5\\n4.  INTERPRETATION OF READINGS ............................................................................................6\\nFIGURE 1 - SOIL SUCTION (BARS) V SENSOR RESISTANCE (OHMS) ..................................7\\nFIGURE 2 - SOIL SUCTION(BARS) V SOIL MOISTURE PERCENTAGE.................................8TABLE 1 - GYPSUM BLOCK SENSOR OUTPUTS IN OHMS ......................................................9\\nTABLE 2 - CONVERSION OF SOIL SUCTION UNITS ................................................................10', metadata={'page': 1, 'source': 'https://drive.google.com/file/d/197YLPeWUY3HPQf0eQgteWM5g8DdMBtWd/view', 'title': 'Gypsum Block with DataHog interface.pdf'}),\n",
       " Document(page_content='the hole, taking care not to damage the signal wire or the interface box. A slot in thebase of the pole will help protect the wire during this process.\\nRefill the hole with the original soil, tamping in small amounts at a time.Connect the round 5 pin plug at the cable end to the appropriate socket on the\\nDataHog or MiniMet datalogger (these sockets are usually labelled gypsum block).\\nAllow 24 hours for the gypsum block to stabilise before using the measurements.PLEASE REMEMBER THAT SOCKETS ON THE DATAHOG OR MINIMET\\nLOGGER ARE NOT WATERPROOF UNLESS THERE IS EITHER A SENSORPLUG OR WATERPROOF DUSTCAP FITTED.\\nWIRING DETAILS FOR DATAHOG CONNECTOR\\nPin 1 Red Positive power supply (5V)\\nPin 2 Blue Sensor outputPin 3 not connectedPin 4 not connectedPin 5 Grey (cable screen) Power supply & output ground', metadata={'page': 3, 'source': 'https://drive.google.com/file/d/197YLPeWUY3HPQf0eQgteWM5g8DdMBtWd/view', 'title': 'Gypsum Block with DataHog interface.pdf'})]"
      ]
     },
     "execution_count": 36,
     "metadata": {},
     "output_type": "execute_result"
    }
   ],
   "source": [
    "response['source_documents']"
   ]
  },
  {
   "cell_type": "code",
   "execution_count": null,
   "metadata": {},
   "outputs": [],
   "source": []
  }
 ],
 "metadata": {
  "kernelspec": {
   "display_name": "llm",
   "language": "python",
   "name": "python3"
  },
  "language_info": {
   "codemirror_mode": {
    "name": "ipython",
    "version": 3
   },
   "file_extension": ".py",
   "mimetype": "text/x-python",
   "name": "python",
   "nbconvert_exporter": "python",
   "pygments_lexer": "ipython3",
   "version": "3.11.4"
  },
  "orig_nbformat": 4
 },
 "nbformat": 4,
 "nbformat_minor": 2
}
