{
 "cells": [
  {
   "cell_type": "markdown",
   "metadata": {},
   "source": [
    "### Example of using another LLM than OpenAI"
   ]
  },
  {
   "cell_type": "code",
   "execution_count": 13,
   "metadata": {},
   "outputs": [],
   "source": [
    "HUGGINGFACEHUB_API_TOKEN = os.environ.get(\"HUGGINGFACEHUB_API_TOKEN\")"
   ]
  },
  {
   "cell_type": "code",
   "execution_count": 7,
   "metadata": {},
   "outputs": [],
   "source": [
    "from langchain import PromptTemplate\n",
    "\n",
    "template = \"\"\"Question: {question}\n",
    "\n",
    "Answer: \"\"\"\n",
    "prompt = PromptTemplate(\n",
    "    template=template,\n",
    "    input_variables=['question']\n",
    ")\n",
    "\n",
    "# user question\n",
    "question = \"What is the capital city of France?\""
   ]
  },
  {
   "cell_type": "code",
   "execution_count": 14,
   "metadata": {},
   "outputs": [
    {
     "name": "stderr",
     "output_type": "stream",
     "text": [
      "/home/jealk/mambaforge/envs/llm/lib/python3.11/site-packages/huggingface_hub/utils/_deprecation.py:127: FutureWarning: '__init__' (from 'huggingface_hub.inference_api') is deprecated and will be removed from version '0.19.0'. `InferenceApi` client is deprecated in favor of the more feature-complete `InferenceClient`. Check out this guide to learn how to convert your script to use it: https://huggingface.co/docs/huggingface_hub/guides/inference#legacy-inferenceapi-client.\n",
      "  warnings.warn(warning_message, FutureWarning)\n"
     ]
    },
    {
     "name": "stdout",
     "output_type": "stream",
     "text": [
      "paris\n"
     ]
    }
   ],
   "source": [
    "from langchain import HuggingFaceHub, LLMChain\n",
    "\n",
    "# initialize Hub LLM\n",
    "hub_llm = HuggingFaceHub(\n",
    "        repo_id='google/flan-t5-large',\n",
    "    model_kwargs={'temperature':0}\n",
    ")\n",
    "\n",
    "# create prompt template > LLM chain\n",
    "llm_chain = LLMChain(\n",
    "    prompt=prompt,\n",
    "    llm=hub_llm\n",
    ")"
   ]
  },
  {
   "cell_type": "code",
   "execution_count": 15,
   "metadata": {},
   "outputs": [
    {
     "name": "stdout",
     "output_type": "stream",
     "text": [
      "paris\n"
     ]
    }
   ],
   "source": [
    "# ask the user question about the capital of France\n",
    "print(llm_chain.run(question))"
   ]
  },
  {
   "cell_type": "markdown",
   "metadata": {},
   "source": []
  },
  {
   "cell_type": "markdown",
   "metadata": {},
   "source": [
    "### Setting up APIs"
   ]
  },
  {
   "cell_type": "code",
   "execution_count": 95,
   "metadata": {},
   "outputs": [],
   "source": [
    "import os\n",
    "from dotenv import load_dotenv\n",
    "\n",
    "load_dotenv(override=True)\n",
    "\n",
    "OPENAI_API_KEY = os.environ.get(\"OPENAI_API_KEY\")\n",
    "ACTIVELOOP_TOKEN = os.environ.get('ACTIVELOOP_TOKEN')\n",
    "GOOGLE_CSE_ID = os.environ.get('GOOGLE_CSE_ID')\n",
    "GOOGLE_API_KEY = os.environ.get('GOOGLE_API_KEY')"
   ]
  },
  {
   "cell_type": "markdown",
   "metadata": {},
   "source": [
    "## Prompts in LangChain"
   ]
  },
  {
   "cell_type": "markdown",
   "metadata": {},
   "source": [
    "**ChatPromptTemplate** is used to create a structured conversation with the AI model, making it easier to manage the flow and content of the conversation. In LangChain, message prompt templates are used to construct and work with prompts, allowing us to exploit the underlying chat model's potential fully.\n",
    "\n",
    "System and Human prompts differ in their roles and purposes when interacting with chat models. \n",
    "\n",
    "- SystemMessagePromptTemplate provides initial instructions, context, or data for the AI model, while\n",
    "- HumanMessagePromptTemplate are messages from the user that the AI model responds to."
   ]
  },
  {
   "cell_type": "code",
   "execution_count": 7,
   "metadata": {},
   "outputs": [
    {
     "name": "stdout",
     "output_type": "stream",
     "text": [
      "[SystemMessage(content='You are an assistant that helps users find information about movies.', additional_kwargs={}), HumanMessage(content='Find information about the movie Inception.', additional_kwargs={}, example=False)]\n"
     ]
    }
   ],
   "source": [
    "from langchain.chat_models import ChatOpenAI\n",
    "from langchain.prompts.chat import (\n",
    "    ChatPromptTemplate,\n",
    "    SystemMessagePromptTemplate,\n",
    "    HumanMessagePromptTemplate,\n",
    ")\n",
    "\n",
    "# Before executing the following code, make sure to have\n",
    "# your OpenAI key saved in the “OPENAI_API_KEY” environment variable.\n",
    "chat = ChatOpenAI(model_name=\"gpt-3.5-turbo\", temperature=0)\n",
    "\n",
    "template = \"You are an assistant that helps users find information about movies.\"\n",
    "system_message_prompt = SystemMessagePromptTemplate.from_template(template)\n",
    "human_template = \"Find information about the movie {movie_title}.\"\n",
    "human_message_prompt = HumanMessagePromptTemplate.from_template(human_template)\n",
    "\n",
    "chat_prompt = ChatPromptTemplate.from_messages([system_message_prompt, human_message_prompt])\n",
    "\n",
    "formated_prompt = chat_prompt.format_prompt(movie_title=\"Inception\").to_messages()\n",
    "print(formated_prompt)"
   ]
  },
  {
   "cell_type": "code",
   "execution_count": 9,
   "metadata": {},
   "outputs": [
    {
     "name": "stdout",
     "output_type": "stream",
     "text": [
      "\"Inception\" is a science fiction action film directed by Christopher Nolan. It was released in 2010 and stars Leonardo DiCaprio, Joseph Gordon-Levitt, Ellen Page, Tom Hardy, and Marion Cotillard.\n",
      "\n",
      "The movie follows Dom Cobb (played by DiCaprio), a skilled thief who specializes in extracting valuable information from the subconscious of his targets by entering their dreams. Cobb is given a chance to redeem himself by performing the opposite task of \"inception\" – planting an idea in someone's mind instead of stealing it.\n",
      "\n",
      "The film explores the concept of shared dreaming and delves into the complexities of the human mind. It takes the audience on a thrilling journey through various dream levels, blurring the lines between reality and the dream world.\n",
      "\n",
      "\"Inception\" received critical acclaim for its originality, visual effects, and thought-provoking storyline. It was praised for its complex narrative structure and the performances of its cast. The film was a commercial success, grossing over $828 million worldwide.\n",
      "\n",
      "If you are interested in watching \"Inception,\" it is available on various streaming platforms and can be rented or purchased on digital platforms.\n"
     ]
    }
   ],
   "source": [
    "response = chat(formated_prompt)\n",
    "\n",
    "print(response.content)"
   ]
  },
  {
   "cell_type": "markdown",
   "metadata": {},
   "source": [
    "## Summarization Chain\n",
    "\n",
    "- **load_summarize_chain** function accepts an instance of the language model and returns a pre-built summarization chain.\n",
    "- PyPDFLoader class is responsible for loading PDF files and converting them into a format suitable for processing by LangChain. "
   ]
  },
  {
   "cell_type": "code",
   "execution_count": 28,
   "metadata": {},
   "outputs": [
    {
     "name": "stderr",
     "output_type": "stream",
     "text": [
      "/home/jealk/mambaforge/envs/llm/lib/python3.11/site-packages/langchain/llms/openai.py:200: UserWarning: You are trying to use a chat model. This way of initializing it is no longer supported. Instead, please use: `from langchain.chat_models import ChatOpenAI`\n",
      "  warnings.warn(\n",
      "/home/jealk/mambaforge/envs/llm/lib/python3.11/site-packages/langchain/llms/openai.py:785: UserWarning: You are trying to use a chat model. This way of initializing it is no longer supported. Instead, please use: `from langchain.chat_models import ChatOpenAI`\n",
      "  warnings.warn(\n"
     ]
    },
    {
     "name": "stdout",
     "output_type": "stream",
     "text": [
      "This document is a guide for members of an unemployment insurance system. It provides information on key concepts, job search strategies, and important terms related to unemployment benefits. It also includes information on meetings with the employment agency, job applications, and the process of receiving unemployment benefits. The guide emphasizes the importance of being actively job seeking and available for work. It also provides resources for further learning and support.\n"
     ]
    }
   ],
   "source": [
    "# Import necessary modules\n",
    "from langchain import OpenAI, PromptTemplate\n",
    "from langchain.chains.summarize import load_summarize_chain\n",
    "from langchain.document_loaders import PyPDFLoader\n",
    "\n",
    "\n",
    "# Initialize language model\n",
    "llm = OpenAI(model_name=\"gpt-3.5-turbo-16k\", temperature=0)\n",
    "\n",
    "# Load the summarization chain\n",
    "summarize_chain = load_summarize_chain(llm)\n",
    "\n",
    "# Load the document using PyPDFLoader\n",
    "document_loader = PyPDFLoader(file_path=\"data/ny-i-dagpengesystemet-DK-2023.pdf\")\n",
    "\n",
    "document = document_loader.load()\n",
    "\n",
    "# Summarize the document\n",
    "summary = summarize_chain(document)\n",
    "print(summary['output_text'])"
   ]
  },
  {
   "cell_type": "code",
   "execution_count": 33,
   "metadata": {},
   "outputs": [
    {
     "data": {
      "text/plain": [
       "Document(page_content='5MA\\nJobcenter\\nMA/\\njobcenterVelkomst-\\nsamtaleRådigheds-\\nsamtale\\nFællessamtaleRådigheds-\\nsamtale\\n1 samtale om \\nmåneden\\nFællessamtaleRådighedssamtale \\nefter behov\\n1 samtale \\ni kvartalet\\nFællessamtale \\nefter 16 mdr. – \\nintensiveret \\nindsatsDu skal uploade en ansøgning og et cv i jobloggen. \\nTil velkomstsamtalen vil vi nemlig bruge så meget tid \\nsom muligt på at tale om dine jobmuligheder og dit \\nansøgningsmateriale, så du hurtigt kommer i gang.\\nHusk! Du skal selv booke mødet, når du bliver indkaldt \\ntil møder. Vær derfor opmærksom på indkaldelser fra \\nMA i selvbetjeningen på Mit MA og fra dit jobcenter i e-Boks.\\n1. måned 1.-3. måned 4.-6. måned 7.-24. måned', metadata={'source': 'data/ny-i-dagpengesystemet-DK-2023.pdf', 'page': 4})"
      ]
     },
     "execution_count": 33,
     "metadata": {},
     "output_type": "execute_result"
    }
   ],
   "source": [
    "document[4]"
   ]
  },
  {
   "cell_type": "code",
   "execution_count": null,
   "metadata": {},
   "outputs": [],
   "source": [
    "# Summarize the document\n",
    "summary = summarize_chain(documents[5])\n",
    "print(summary['output_text'])"
   ]
  },
  {
   "cell_type": "code",
   "execution_count": 17,
   "metadata": {},
   "outputs": [
    {
     "data": {
      "text/plain": [
       "Document(page_content='3Indhold\\nDu bor i København, Frederiksberg, Aarhus eller Odense Kommune 4- 5\\nDu bor ikke i København, Frederiksberg, Aarhus eller Odense Kommune 6-7\\nMit MA og selvbetjeningen 8-9\\nAt stå til rådighed – hvad betyder det? 10-11\\nHvad tæller med i jobsøgningen? 12-13\\nNøglebegreber  14\\nNår du går i job 15\\nDin joblog  16-17\\nSelvstudie: Digital introduktion til dagpengesystemet 18 -19\\nFå målrettet inspiration og gode råd til din jobjagt  20\\nTilbud til MA’s medlemmer  21\\nDit dagpengeoverblik  22-23\\nHvad må du, når du er på dagpenge?  24-25\\nDagpengekortet (ydelseskortet)  26-28\\nSygdom, ferie og barsel  29\\nUdbetaling af dagpenge  30-31\\nSamkøring – hvad er det?  32\\nEksklusivt værktøj: MA Personprofil  33\\nBrug hjemmesiden  34-35\\nSøg – og du skal finde  Bagsiden', metadata={'source': 'data/ny-i-dagpengesystemet-DK-2023.pdf', 'page': 2})"
      ]
     },
     "execution_count": 17,
     "metadata": {},
     "output_type": "execute_result"
    }
   ],
   "source": [
    "document[2]"
   ]
  },
  {
   "cell_type": "markdown",
   "metadata": {},
   "source": [
    "## Saving and loading prompts externally"
   ]
  },
  {
   "cell_type": "code",
   "execution_count": 42,
   "metadata": {},
   "outputs": [
    {
     "name": "stdout",
     "output_type": "stream",
     "text": [
      "Opsummer følgende tekst og sørg for at svaret er givet i en Ordenlig, neutral og informativ tone og max er 40 tokens langt. Teksten er nedenfor Når du skal på ferie, skal du registrere ferien på Min side på jobnet.dk under menupunktet ”Giv besked” senest 14 dage før din første feriedag, og gerne tidligere. Derved får jobcentret og vi besked om dine ferieplaner, så du ikke bliver indkaldt til møder og lignende. Hvis du ikke husker at registrere ferien, har du pligt til komme til møder og samtaler, som vi eller jobcentret indkalder til. Møder du ikke op på grund af ferie, vil det påvirke dine dagpenge. Fremgår ferien ikke af dit ydelseskort, skal du huske selv at skrive det på. 14-dages-fristen gælder ikke for ferie på enkeltdage. Du kan dog ikke meddele ferie på en dag, hvor vi eller jobcentret allerede har indkaldt dig. \\n\n"
     ]
    }
   ],
   "source": [
    "from langchain.prompts import load_prompt\n",
    "\n",
    "tekst = \"Når du skal på ferie, skal du registrere ferien på Min side på jobnet.dk under menupunktet ”Giv besked” senest 14 dage før din første feriedag, og gerne tidligere. Derved får jobcentret og vi besked om dine ferieplaner, så du ikke bliver indkaldt til møder og lignende. Hvis du ikke husker at registrere ferien, har du pligt til komme til møder og samtaler, som vi eller jobcentret indkalder til. Møder du ikke op på grund af ferie, vil det påvirke dine dagpenge. Fremgår ferien ikke af dit ydelseskort, skal du huske selv at skrive det på. 14-dages-fristen gælder ikke for ferie på enkeltdage. Du kan dog ikke meddele ferie på en dag, hvor vi eller jobcentret allerede har indkaldt dig.\"\n",
    "\n",
    "prompt = load_prompt(\"prompt_DK_opsummering_40tokens.yaml\")\n",
    "formated_prompt = prompt.format(tekst=tekst, tone=\"Ordenlig, neutral og informativ\")\n",
    "print(formated_prompt)"
   ]
  },
  {
   "cell_type": "code",
   "execution_count": 41,
   "metadata": {},
   "outputs": [
    {
     "data": {
      "text/plain": [
       "'\\n\\nDu skal registrere din ferie på Min side på jobnet.dk senest 14 dage før din første feriedag. Hvis du ikke gør det, skal du stadig møde op til møder og samtaler, som du er blevet indkaldt til. Det kan påvirke dine dagpenge, hvis du ikke møder op. Ferie på enkeltdage skal ikke registreres, men skal stadig skrives på dit ydelseskort. Du kan ikke meddele ferie på en dag, hvor du allerede er blevet indkaldt.'"
      ]
     },
     "execution_count": 41,
     "metadata": {},
     "output_type": "execute_result"
    }
   ],
   "source": [
    "llm = OpenAI(model=\"text-davinci-003\", temperature=0)\n",
    "llm(formated_prompt)"
   ]
  },
  {
   "cell_type": "markdown",
   "metadata": {},
   "source": [
    "## FewShotPromptTemplate & loading external prompts"
   ]
  },
  {
   "cell_type": "markdown",
   "metadata": {},
   "source": [
    "Består af \n",
    "- prefix: Første del af prompten, der f.eks. beskriver bottens rolle, og indsættes før eksemplerne\n",
    "- example_promt: Skabelonen for hvordan eksemplerne skal se ud, f.eks. \"Borger: {Spørgsmål} \\n Bot: {Svar}\"\n",
    "- examples: En liste af eksempler af {Spørgsmål} og {Svar} som ved prompt generering indsættes i skabelonen\n",
    "- suffix: Sidste del af prompten, der f.eks. minder botten om at den ikke skal svare, hvis den ikke kendte svaret\n",
    "- input_variables: En eller flere variable der kan indsættes i prompten (prefix / suffix) ved generering, f.eks. inputtet fra bruger eller variabel der bestemmer længden på svaret\n",
    "- example_seperator: Den seperator som skal indsættes imellem de forskellige eksempler, f.eks. \"\\n\" for at indsætte et linjeskift\n"
   ]
  },
  {
   "cell_type": "code",
   "execution_count": null,
   "metadata": {},
   "outputs": [],
   "source": [
    "\"\"\"\n",
    "few_shot_prompt_template = FewShotPromptTemplate(\n",
    "    examples=,\n",
    "    example_prompt=,\n",
    "    prefix=,\n",
    "    suffix=,\n",
    "    input_variables=,\n",
    "    example_separator=\"\\n\\n\"\n",
    "    \n",
    "\"\"\""
   ]
  },
  {
   "cell_type": "markdown",
   "metadata": {},
   "source": [
    "**Prefix**"
   ]
  },
  {
   "cell_type": "code",
   "execution_count": 112,
   "metadata": {},
   "outputs": [
    {
     "name": "stdout",
     "output_type": "stream",
     "text": [
      "input_variables=['tone'] output_parser=None partial_variables={} template='Du er en professionel sagsbehandler som arbejder på jobcentret. Du hjælper borgere med spørgsmål til arbejdsløshed og svarer altid i en {tone} tone og holder dit svar under 80 tokens langt. Hvis du ikke kender svaret, skal du sige at du ikke kender svaret \\\\n' template_format='f-string' validate_template=True\n"
     ]
    }
   ],
   "source": [
    "jobcenter_prefix = load_prompt(\"jobcenter_prefix.yaml\")\n",
    "print(jobcenter_prefix)"
   ]
  },
  {
   "cell_type": "code",
   "execution_count": 114,
   "metadata": {},
   "outputs": [
    {
     "data": {
      "text/plain": [
       "'Du er en professionel sagsbehandler som arbejder på jobcentret. Du hjælper borgere med spørgsmål til arbejdsløshed og svarer altid i en {tone} tone og holder dit svar under 80 tokens langt. Hvis du ikke kender svaret, skal du sige at du ikke kender svaret \\\\n'"
      ]
     },
     "execution_count": 114,
     "metadata": {},
     "output_type": "execute_result"
    }
   ],
   "source": [
    "jobcenter_prefix.template"
   ]
  },
  {
   "cell_type": "markdown",
   "metadata": {},
   "source": [
    "**Definer eksempel skabelon - example_prompt**"
   ]
  },
  {
   "cell_type": "code",
   "execution_count": 82,
   "metadata": {},
   "outputs": [
    {
     "data": {
      "text/plain": [
       "PromptTemplate(input_variables=['spørgsmål', 'svar'], output_parser=None, partial_variables={}, template='\\nSpørgsmål: {spørgsmål}\\nSvar: {svar}\\n', template_format='f-string', validate_template=True)"
      ]
     },
     "execution_count": 82,
     "metadata": {},
     "output_type": "execute_result"
    }
   ],
   "source": [
    "FAQ_template = \"\"\"\n",
    "Spørgsmål: {spørgsmål}\n",
    "Svar: {svar}\n",
    "\"\"\"\n",
    "\n",
    "FAQ_prompt = PromptTemplate(\n",
    "    input_variables=[\"spørgsmål\", \"svar\"],\n",
    "    template=FAQ_template\n",
    ")\n",
    "\n",
    "FAQ_prompt"
   ]
  },
  {
   "cell_type": "markdown",
   "metadata": {},
   "source": [
    "**Load eksempler - examples**\n",
    "There is no function to load examples directly in LangChain hence we have to use a regular yaml reader"
   ]
  },
  {
   "cell_type": "code",
   "execution_count": 102,
   "metadata": {},
   "outputs": [
    {
     "data": {
      "text/plain": [
       "{'spørgsmål': 'Hvor lang tid kan jeg få dagpenge?',\n",
       " 'svar': 'Dagpengeperioden opgøres i timer. Du kan få dagpenge i 3.848 timer. Du kan bruge timerne inden for en periode på 36 måneder. Dagpengeperioden er en slags klippekort med 3.848 klip, og du bruger et klip hver gang du får udbetalt dagpenge i 1 time. Du bruger også af dine klip, hvis du f.eks. arbejder i et job, hvor arbejdsgiveren får løntilskud.'}"
      ]
     },
     "execution_count": 102,
     "metadata": {},
     "output_type": "execute_result"
    }
   ],
   "source": [
    "import yaml\n",
    "examples_file = 'examples_jobcenter_FAQ.yaml'\n",
    "\n",
    "FAQ_eksempler = []\n",
    "with open(examples_file, 'r') as f:\n",
    "    FAQ_eksempler = yaml.safe_load(f)\n",
    "\n",
    "FAQ_eksempler[0]"
   ]
  },
  {
   "cell_type": "markdown",
   "metadata": {},
   "source": [
    "**(Optional) Dynamic example selector**\n",
    "Vælg antal eksempler ud fra en max længde på eksemplerne"
   ]
  },
  {
   "cell_type": "code",
   "execution_count": 120,
   "metadata": {},
   "outputs": [],
   "source": [
    "from langchain.prompts.example_selector import LengthBasedExampleSelector\n",
    "\n",
    "example_selector = LengthBasedExampleSelector(\n",
    "    examples=FAQ_eksempler,\n",
    "    example_prompt=FAQ_prompt,\n",
    "    max_length=100  \n",
    ")"
   ]
  },
  {
   "cell_type": "markdown",
   "metadata": {},
   "source": [
    "**Definer FewShotPromptTemplate**"
   ]
  },
  {
   "cell_type": "code",
   "execution_count": 115,
   "metadata": {},
   "outputs": [],
   "source": [
    "\n",
    "from langchain import LLMChain, FewShotPromptTemplate, PromptTemplate\n",
    "\n",
    "\n",
    "few_shot_prompt_template = FewShotPromptTemplate(\n",
    "    examples=FAQ_eksempler,\n",
    "    example_prompt=FAQ_prompt,\n",
    "    prefix=jobcenter_prefix.template,\n",
    "    suffix=\"Spørgsmål: {spørgsmål}\\nSvar:\",\n",
    "    input_variables=[\"tone\", \"spørgsmål\"],\n",
    "    example_separator=\"\\n\\n\"\n",
    ")"
   ]
  },
  {
   "cell_type": "markdown",
   "metadata": {},
   "source": [
    "**Definer input og generer prompt**"
   ]
  },
  {
   "cell_type": "code",
   "execution_count": 116,
   "metadata": {},
   "outputs": [],
   "source": [
    "input_eks = \"Kan jeg få dagpenge som nyuddannet?\""
   ]
  },
  {
   "cell_type": "code",
   "execution_count": 118,
   "metadata": {},
   "outputs": [
    {
     "name": "stdout",
     "output_type": "stream",
     "text": [
      "Du er en professionel sagsbehandler som arbejder på jobcentret. Du hjælper borgere med spørgsmål til arbejdsløshed og svarer altid i en neutral tone og holder dit svar under 80 tokens langt. Hvis du ikke kender svaret, skal du sige at du ikke kender svaret \\n\n",
      "\n",
      "\n",
      "Spørgsmål: Hvor lang tid kan jeg få dagpenge?\n",
      "Svar: Dagpengeperioden opgøres i timer. Du kan få dagpenge i 3.848 timer. Du kan bruge timerne inden for en periode på 36 måneder. Dagpengeperioden er en slags klippekort med 3.848 klip, og du bruger et klip hver gang du får udbetalt dagpenge i 1 time. Du bruger også af dine klip, hvis du f.eks. arbejder i et job, hvor arbejdsgiveren får løntilskud.\n",
      "\n",
      "\n",
      "\n",
      "Spørgsmål: Hvad er en dagpengeperiode?\n",
      "Svar: Første gang du bliver ledig som lønmodtager får du ret til dagpenge i 3.848 timer. Det svarer til 2 år. Perioden kaldes dagpengeperioden\n",
      "\n",
      "\n",
      "\n",
      "Spørgsmål: Hvad kræves for at have ret til dagpenge som lønmodtager?\n",
      "Svar: Du skal være medlem i a-kassen, og have været det i mindst 1 år. Du skal også have haft en samlet indkomst på 254.328 kr. i de sidste 3 år. Kun indkomst i medlemsperioden kan medregnes, og der kan højst medregnes  21.194 kr. pr. måned. Du har tidligst ret til dagpenge, fra den dag du har tilmeldt dig som ledig på jobnet.dk.\n",
      "\n",
      "\n",
      "\n",
      "Spørgsmål: Kan jeg få supplerende dagpenge?\n",
      "Svar: Hvis du har ret til dagpenge, og får arbejde på nedsat tid, kan du ofte få supplerende dagpenge. Hvis du er fuldtidsforsikret, skal du arbejde mindre end 37 timer om ugen, for at have ret til at få suppleret op til fuld tid. Hvis du er deltidsforsikret, skal du arbejde mindre end 30 timer om ugen, for at have ret til at få suppleret op til 130 timer om måneden. For at have ret til en udbetaling i en måned, skal du som fuldtidsforsikret være ledig i mindst 14,8 timer, og hvis du er deltidsforsikret, skal du være ledig i mindst 12 timer. Du skal fortsat være tilmeldt jobcentret som ledig, og være til rådighed og aktivt jobsøgende for at have ret til supplerende dagpenge.\n",
      "\n",
      "\n",
      "Spørgsmål: Kan jeg få dagpenge som nyuddannet?\n",
      "Svar:\n"
     ]
    }
   ],
   "source": [
    "print(few_shot_prompt_template.format(spørgsmål=input_eks, tone=\"neutral\"))"
   ]
  },
  {
   "cell_type": "markdown",
   "metadata": {},
   "source": [
    "**Opret LLM chain og spørg LLM**"
   ]
  },
  {
   "cell_type": "code",
   "execution_count": 119,
   "metadata": {},
   "outputs": [
    {
     "data": {
      "text/plain": [
       "'Som nyuddannet kan du have ret til dagpenge, hvis du opfylder visse betingelser. Du skal have været medlem af a-kassen i mindst 1 år, have haft en samlet indkomst på mindst 228.348 kr. i de sidste 3 år og være tilmeldt som ledig på jobnet.dk. Derudover skal du have afsluttet en uddannelse, der giver ret til dagpenge. Det er vigtigt at bemærke, at der kan være forskellige regler og betingelser afhængigt af din situation og a-kasse.'"
      ]
     },
     "execution_count": 119,
     "metadata": {},
     "output_type": "execute_result"
    }
   ],
   "source": [
    "chat = ChatOpenAI(model_name=\"gpt-3.5-turbo\", temperature=0)\n",
    "chain = LLMChain(llm=chat, prompt=few_shot_prompt_template)\n",
    "chain.run({'spørgsmål': input_eks, 'tone': 'neutral'})"
   ]
  },
  {
   "cell_type": "code",
   "execution_count": null,
   "metadata": {},
   "outputs": [],
   "source": []
  }
 ],
 "metadata": {
  "kernelspec": {
   "display_name": "llm",
   "language": "python",
   "name": "python3"
  },
  "language_info": {
   "codemirror_mode": {
    "name": "ipython",
    "version": 3
   },
   "file_extension": ".py",
   "mimetype": "text/x-python",
   "name": "python",
   "nbconvert_exporter": "python",
   "pygments_lexer": "ipython3",
   "version": "3.11.4"
  },
  "orig_nbformat": 4
 },
 "nbformat": 4,
 "nbformat_minor": 2
}
