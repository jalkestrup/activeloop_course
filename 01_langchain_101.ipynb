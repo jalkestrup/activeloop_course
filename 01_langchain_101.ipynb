{
 "cells": [
  {
   "cell_type": "markdown",
   "metadata": {},
   "source": [
    "# API KEYS"
   ]
  },
  {
   "cell_type": "code",
   "execution_count": 25,
   "metadata": {},
   "outputs": [],
   "source": [
    "import os\n",
    "from dotenv import load_dotenv\n",
    "\n",
    "load_dotenv(override=True)\n",
    "\n",
    "OPENAI_API_KEY = os.environ.get(\"OPENAI_API_KEY\")\n",
    "ACTIVELOOP_TOKEN = os.environ.get('ACTIVELOOP_TOKEN')\n",
    "GOOGLE_CSE_ID = os.environ.get('GOOGLE_CSE_ID')\n",
    "GOOGLE_API_KEY = os.environ.get('GOOGLE_API_KEY')"
   ]
  },
  {
   "cell_type": "markdown",
   "metadata": {},
   "source": [
    "# Setting up OpenAI"
   ]
  },
  {
   "cell_type": "code",
   "execution_count": 8,
   "metadata": {},
   "outputs": [],
   "source": [
    "from langchain.llms import OpenAI"
   ]
  },
  {
   "cell_type": "code",
   "execution_count": 9,
   "metadata": {},
   "outputs": [],
   "source": [
    "import os\n",
    "OPENAI_API_KEY = os.environ.get('OPENAI_API_KEY')"
   ]
  },
  {
   "cell_type": "code",
   "execution_count": 10,
   "metadata": {},
   "outputs": [],
   "source": [
    "llm = OpenAI(model=\"text-davinci-003\", temperature=0.9)"
   ]
  },
  {
   "cell_type": "code",
   "execution_count": 11,
   "metadata": {},
   "outputs": [
    {
     "name": "stdout",
     "output_type": "stream",
     "text": [
      "\n",
      "\n",
      "Day 1:\n",
      "\n",
      "• Dynamic Warm-Up: 10 minutes of light jogging, dynamic stretching, and dynamic mobility exercises \n",
      "\n",
      "• Cardio: 30 minutes of running or jogging \n",
      "\n",
      "• Core and Balance: 10 minutes of planks, core exercises, and balance exercises \n",
      "\n",
      "• Cool Down: 5 minutes of stretching \n",
      "\n",
      "Day 2:\n",
      "\n",
      "• Dynamic Warm-Up: 10 minutes of light jogging, dynamic stretching, and dynamic mobility exercises \n",
      "\n",
      "• Cardio: 30 minutes of cycling or rowing \n",
      "\n",
      "• Strength: 10 minutes of body-weight exercises like squats, push-ups, lunges, and tricep dips \n",
      "\n",
      "• Cool Down: 5 minutes of stretching \n",
      "\n",
      "Day 3:\n",
      "\n",
      "• Dynamic Warm-Up: 10 minutes of light jogging, dynamic stretching, and dynamic mobility exercises \n",
      "\n",
      "• Cardio: 30 minutes of HIIT (high intensity interval training) \n",
      "\n",
      "• Core and Balance: 10 minutes of planks, core exercises, and balance exercises \n",
      "\n",
      "• Cool Down: 5 minutes of stretching \n",
      "\n",
      "Day 4:\n",
      "\n",
      "• Dynamic Warm-Up: 10 minutes of light jogging, dynamic stretching, and dynamic\n"
     ]
    }
   ],
   "source": [
    "text = \"Suggest a personalized workout routine for someone looking to improve cardiovascular endurance and prefers outdoor activities.\"\n",
    "print(llm(text))"
   ]
  },
  {
   "cell_type": "markdown",
   "metadata": {},
   "source": [
    "# Importing LangChain"
   ]
  },
  {
   "cell_type": "code",
   "execution_count": 13,
   "metadata": {},
   "outputs": [
    {
     "name": "stdout",
     "output_type": "stream",
     "text": [
      "\n",
      "\n",
      "MoistureMeter Technologies.\n"
     ]
    }
   ],
   "source": [
    "from langchain.prompts import PromptTemplate\n",
    "from langchain.llms import OpenAI\n",
    "from langchain.chains import LLMChain\n",
    "\n",
    "llm = OpenAI(model=\"text-davinci-003\", temperature=0.9)\n",
    "prompt = PromptTemplate(\n",
    "    input_variables=[\"product\"],\n",
    "    template=\"What is a good name for a company that makes {product}?\",\n",
    ")\n",
    "\n",
    "chain = LLMChain(llm=llm, prompt=prompt)\n",
    "\n",
    "print(chain.run(\"A soil moisture sensor\"))"
   ]
  },
  {
   "cell_type": "markdown",
   "metadata": {},
   "source": [
    "# Memory"
   ]
  },
  {
   "cell_type": "markdown",
   "metadata": {},
   "source": [
    "From LangChain documentation:\n",
    "- **ChatMessageHistory**: A list of all messages sent in the chat, methods include add_user_message and add_ai_message to add message objects to the history. The messages are stored in order in a Python lost, with most recent at the end. \n",
    "- **ConversationBufferMemory**: Wrapper of ChatMessageHistory that manages passing ChatMessageHistory objects to chains & agents"
   ]
  },
  {
   "cell_type": "code",
   "execution_count": 17,
   "metadata": {},
   "outputs": [
    {
     "name": "stdout",
     "output_type": "stream",
     "text": [
      "\n",
      "\n",
      "\u001b[1m> Entering new ConversationChain chain...\u001b[0m\n",
      "Prompt after formatting:\n",
      "\u001b[32;1m\u001b[1;3mThe following is a friendly conversation between a human and an AI. The AI is talkative and provides lots of specific details from its context. If the AI does not know the answer to a question, it truthfully says it does not know.\n",
      "\n",
      "Current conversation:\n",
      "\n",
      "Human: I want to start a Soil Moisture sensor company, what should the name be?\n",
      "AI:\u001b[0m\n",
      "\n",
      "\u001b[1m> Finished chain.\u001b[0m\n",
      "\n",
      "\n",
      "\u001b[1m> Entering new ConversationChain chain...\u001b[0m\n",
      "Prompt after formatting:\n",
      "\u001b[32;1m\u001b[1;3mThe following is a friendly conversation between a human and an AI. The AI is talkative and provides lots of specific details from its context. If the AI does not know the answer to a question, it truthfully says it does not know.\n",
      "\n",
      "Current conversation:\n",
      "Human: I want to start a Soil Moisture sensor company, what should the name be?\n",
      "AI:  That's a great idea! I'm not sure what the best name for your company would be, but I can suggest some ideas. How about \"Soil Sense\" or \"Moisture Matters\"?\n",
      "Human: What are some of the dominant companies in this space?\n",
      "AI:\u001b[0m\n",
      "\n",
      "\u001b[1m> Finished chain.\u001b[0m\n",
      "\n",
      "\n",
      "\u001b[1m> Entering new ConversationChain chain...\u001b[0m\n",
      "Prompt after formatting:\n",
      "\u001b[32;1m\u001b[1;3mThe following is a friendly conversation between a human and an AI. The AI is talkative and provides lots of specific details from its context. If the AI does not know the answer to a question, it truthfully says it does not know.\n",
      "\n",
      "Current conversation:\n",
      "Human: I want to start a Soil Moisture sensor company, what should the name be?\n",
      "AI:  That's a great idea! I'm not sure what the best name for your company would be, but I can suggest some ideas. How about \"Soil Sense\" or \"Moisture Matters\"?\n",
      "Human: What are some of the dominant companies in this space?\n",
      "AI:  The top companies in the soil moisture sensor space are currently Decagon Devices, Irrometer, and Sentek. All three of these companies have been in the industry for many years and have established themselves as leaders in the field.\n",
      "Human: How can I differentiate myself from them?\n",
      "AI:\u001b[0m\n",
      "\n",
      "\u001b[1m> Finished chain.\u001b[0m\n"
     ]
    },
    {
     "data": {
      "text/plain": [
       "\" Differentiating yourself from the competition is an important part of any business. You could focus on providing a unique product or service that the other companies don't offer, or you could focus on providing a better customer experience. You could also focus on providing a more affordable product or service than the competition.\""
      ]
     },
     "execution_count": 17,
     "metadata": {},
     "output_type": "execute_result"
    }
   ],
   "source": [
    "from langchain.llms import OpenAI\n",
    "from langchain.chains import ConversationChain\n",
    "from langchain.memory import ConversationBufferMemory\n",
    "\n",
    "llm = OpenAI(model=\"text-davinci-003\", temperature=0)\n",
    "conversation = ConversationChain(\n",
    "    llm=llm,\n",
    "    verbose=True,\n",
    "    memory=ConversationBufferMemory()\n",
    ")\n",
    "\n",
    "#First message\n",
    "conversation.predict(input=\"I want to start a Soil Moisture sensor company, what should the name be?\")\n",
    "\n",
    "#Second message\n",
    "conversation.predict(input=\"What are some of the dominant companies in this space?\")\n",
    "\n",
    "#First message\n",
    "conversation.predict(input=\"How can I differentiate myself from them?\")\n",
    "\n",
    "#WARNING, calling print(conversation) also prints the OpenAI API key as a string within the object (not so smart LangChain..)\n",
    "#print(conversation)\n"
   ]
  },
  {
   "cell_type": "code",
   "execution_count": 15,
   "metadata": {},
   "outputs": [
    {
     "name": "stdout",
     "output_type": "stream",
     "text": [
      "chat_memory=ChatMessageHistory(messages=[HumanMessage(content='I want to start a Soil Moisture sensor company, what should the name be?', additional_kwargs={}, example=False), AIMessage(content=' That\\'s a great idea! I\\'m not sure what the best name for your company would be, but I can suggest some ideas. How about \"Soil Sense\" or \"Moisture Matters\"?', additional_kwargs={}, example=False), HumanMessage(content='What are some of the dominant companies in this space?', additional_kwargs={}, example=False), AIMessage(content=' The top companies in the soil moisture sensor space are currently Decagon Devices, Irrometer, and Sentek. All three of these companies have been in the industry for many years and have established themselves as leaders in the field.', additional_kwargs={}, example=False), HumanMessage(content='How can I differentiate myself from them?', additional_kwargs={}, example=False), AIMessage(content=\" Differentiating yourself from the competition is an important part of any business. You could focus on providing a unique product or service that the other companies don't offer, or you could focus on providing a better customer experience. You could also focus on providing a more affordable product or service than the competition.\", additional_kwargs={}, example=False)]) output_key=None input_key=None return_messages=False human_prefix='Human' ai_prefix='AI' memory_key='history'\n"
     ]
    }
   ],
   "source": [
    "print(conversation.memory)"
   ]
  },
  {
   "cell_type": "code",
   "execution_count": 14,
   "metadata": {},
   "outputs": [
    {
     "name": "stdout",
     "output_type": "stream",
     "text": [
      "messages=[HumanMessage(content='I want to start a Soil Moisture sensor company, what should the name be?', additional_kwargs={}, example=False), AIMessage(content=' That\\'s a great idea! I\\'m not sure what the best name for your company would be, but I can suggest some ideas. How about \"Soil Sense\" or \"Moisture Matters\"?', additional_kwargs={}, example=False), HumanMessage(content='What are some of the dominant companies in this space?', additional_kwargs={}, example=False), AIMessage(content=' The top companies in the soil moisture sensor space are currently Decagon Devices, Irrometer, and Sentek. All three of these companies have been in the industry for many years and have established themselves as leaders in the field.', additional_kwargs={}, example=False), HumanMessage(content='How can I differentiate myself from them?', additional_kwargs={}, example=False), AIMessage(content=\" Differentiating yourself from the competition is an important part of any business. You could focus on providing a unique product or service that the other companies don't offer, or you could focus on providing a better customer experience. You could also focus on providing a more affordable product or service than the competition.\", additional_kwargs={}, example=False)]\n"
     ]
    }
   ],
   "source": [
    "print(conversation.memory.chat_memory)"
   ]
  },
  {
   "cell_type": "code",
   "execution_count": 15,
   "metadata": {},
   "outputs": [
    {
     "name": "stdout",
     "output_type": "stream",
     "text": [
      "[HumanMessage(content='I want to start a Soil Moisture sensor company, what should the name be?', additional_kwargs={}, example=False), AIMessage(content=' That\\'s a great idea! I\\'m not sure what the best name for your company would be, but I can suggest some ideas. How about \"Soil Sense\" or \"Moisture Matters\"?', additional_kwargs={}, example=False), HumanMessage(content='What are some of the dominant companies in this space?', additional_kwargs={}, example=False), AIMessage(content=' The top companies in the soil moisture sensor space are currently Decagon Devices, Irrometer, and Sentek. All three of these companies have been in the industry for many years and have established themselves as leaders in the field.', additional_kwargs={}, example=False), HumanMessage(content='How can I differentiate myself from them?', additional_kwargs={}, example=False), AIMessage(content=\" Differentiating yourself from the competition is an important part of any business. You could focus on providing a unique product or service that the other companies don't offer, or you could focus on providing a better customer experience. You could also focus on providing a more affordable product or service than the competition.\", additional_kwargs={}, example=False)]\n"
     ]
    }
   ],
   "source": [
    "print(conversation.memory.chat_memory.messages)"
   ]
  },
  {
   "cell_type": "code",
   "execution_count": 17,
   "metadata": {},
   "outputs": [
    {
     "name": "stdout",
     "output_type": "stream",
     "text": [
      "content='I want to start a Soil Moisture sensor company, what should the name be?' additional_kwargs={} example=False\n"
     ]
    }
   ],
   "source": [
    "print(conversation.memory.chat_memory.messages[0])"
   ]
  },
  {
   "cell_type": "code",
   "execution_count": 18,
   "metadata": {},
   "outputs": [
    {
     "name": "stdout",
     "output_type": "stream",
     "text": [
      "content=' That\\'s a great idea! I\\'m not sure what the best name for your company would be, but I can suggest some ideas. How about \"Soil Sense\" or \"Moisture Matters\"?' additional_kwargs={} example=False\n"
     ]
    }
   ],
   "source": [
    "print(conversation.memory.chat_memory.messages[1])"
   ]
  },
  {
   "cell_type": "markdown",
   "metadata": {},
   "source": [
    "# Setting up agent to use tool to access Deep Lake"
   ]
  },
  {
   "cell_type": "code",
   "execution_count": 6,
   "metadata": {},
   "outputs": [],
   "source": [
    "ACTIVELOOP_TOKEN = os.environ.get('ACTIVELOOP_TOKEN')"
   ]
  },
  {
   "cell_type": "markdown",
   "metadata": {},
   "source": [
    "**Note:S3GetError**: *An error occurred (RequestTimeTooSkewed) when calling the GetObject operation: The difference between the request time and the current time is too large.*\n",
    "\n",
    "When running first time syncing to DB threw the RequestTimeTooSkewed error, turns out the problem arise from the WSL2 env not having synced time with the windows host. The solution is to run the following command in the WSL2 terminal:\n",
    "    sudo hwclock -s\n"
   ]
  },
  {
   "cell_type": "code",
   "execution_count": 24,
   "metadata": {},
   "outputs": [
    {
     "name": "stdout",
     "output_type": "stream",
     "text": [
      "Deep Lake Dataset in hub://jalkestrup/langchain_course_from_zero_to_hero already exists, loading from the storage\n"
     ]
    },
    {
     "name": "stderr",
     "output_type": "stream",
     "text": [
      "creating embeddings: 100%|██████████| 1/1 [00:02<00:00,  2.03s/it]\n",
      "100%|██████████| 2/2 [00:02<00:00,  1.04s/it]\n",
      " \r"
     ]
    },
    {
     "name": "stdout",
     "output_type": "stream",
     "text": [
      "Dataset(path='hub://jalkestrup/langchain_course_from_zero_to_hero', tensors=['embedding', 'id', 'metadata', 'text'])\n",
      "\n",
      "  tensor      htype      shape      dtype  compression\n",
      "  -------    -------    -------    -------  ------- \n",
      " embedding  embedding  (10, 1536)  float32   None   \n",
      "    id        text      (10, 1)      str     None   \n",
      " metadata     json      (10, 1)      str     None   \n",
      "   text       text      (10, 1)      str     None   \n"
     ]
    },
    {
     "data": {
      "text/plain": [
       "['ea4fc0e6-62d5-11ee-bc7e-00155d2697bb',\n",
       " 'ea4fc280-62d5-11ee-bc7e-00155d2697bb']"
      ]
     },
     "execution_count": 24,
     "metadata": {},
     "output_type": "execute_result"
    }
   ],
   "source": [
    "from langchain.embeddings.openai import OpenAIEmbeddings\n",
    "from langchain.vectorstores import DeepLake\n",
    "from langchain.text_splitter import RecursiveCharacterTextSplitter\n",
    "from langchain.llms import OpenAI\n",
    "from langchain.chains import RetrievalQA\n",
    "\n",
    "# Before executing the following code, make sure to have your\n",
    "# Activeloop key saved in the “ACTIVELOOP_TOKEN” environment variable.\n",
    "\n",
    "# instantiate the LLM and embeddings models\n",
    "llm = OpenAI(model=\"text-davinci-003\", temperature=0)\n",
    "embeddings = OpenAIEmbeddings(model=\"text-embedding-ada-002\")\n",
    "\n",
    "# create our documents\n",
    "texts = [\n",
    "    \"SoilSense uses proprietary technology to measure soil moisture using TDT (Time domain transmissometry) sensors.\",\n",
    "    \"The sensors can be used in all crop types as long as the growing medium is regular soil and not a hydroponic system.\",\n",
    "]\n",
    "text_splitter = RecursiveCharacterTextSplitter(chunk_size=1000, chunk_overlap=0)\n",
    "docs = text_splitter.create_documents(texts)\n",
    "\n",
    "# create Deep Lake dataset\n",
    "my_activeloop_org_id = \"jalkestrup\" \n",
    "my_activeloop_dataset_name = \"langchain_course_from_zero_to_hero\"\n",
    "dataset_path = f\"hub://{my_activeloop_org_id}/{my_activeloop_dataset_name}\"\n",
    "db = DeepLake(dataset_path=dataset_path, embedding=embeddings)\n",
    "\n",
    "# add documents to our Deep Lake dataset\n",
    "db.add_documents(docs)"
   ]
  },
  {
   "cell_type": "code",
   "execution_count": 30,
   "metadata": {},
   "outputs": [],
   "source": [
    "retrieval_qa = RetrievalQA.from_chain_type(\n",
    "\tllm=llm,\n",
    "    #stuff: Uses the entire text of the document to feed to the LLM\n",
    "\tchain_type=\"stuff\",\n",
    "\tretriever=db.as_retriever()\n",
    ")"
   ]
  },
  {
   "cell_type": "markdown",
   "metadata": {},
   "source": [
    "**Agent** \n",
    "- Zero-Shot ReAct: The zero-shot-react-description agent uses the ReAct framework to decide which tool to employ based purely on the tool's description. It necessitates a description of each tool."
   ]
  },
  {
   "cell_type": "code",
   "execution_count": 32,
   "metadata": {},
   "outputs": [],
   "source": [
    "from langchain.agents import initialize_agent, Tool\n",
    "from langchain.agents import AgentType\n",
    "\n",
    "tools = [\n",
    "    Tool(\n",
    "        name=\"Retrieval QA System\",\n",
    "        func=retrieval_qa.run,\n",
    "        description=\"Useful for answering questions.\"\n",
    "    ),\n",
    "]\n",
    "\n",
    "agent = initialize_agent(\n",
    "\ttools,\n",
    "\tllm,\n",
    "\tagent=AgentType.ZERO_SHOT_REACT_DESCRIPTION,\n",
    "\tverbose=True\n",
    ")"
   ]
  },
  {
   "cell_type": "code",
   "execution_count": null,
   "metadata": {},
   "outputs": [
    {
     "name": "stdout",
     "output_type": "stream",
     "text": [
      "\n",
      "\n",
      "\u001b[1m> Entering new AgentExecutor chain...\u001b[0m\n"
     ]
    },
    {
     "name": "stdout",
     "output_type": "stream",
     "text": [
      "\u001b[32;1m\u001b[1;3m I need to find out if SoilSense can be used for tomatoes grown in soil-less media.\n",
      "Action: Retrieval QA System\n",
      "Action Input: Can SoilSense be used for tomatoes grown in soil-less media?\u001b[0m\n",
      "Observation: \u001b[36;1m\u001b[1;3m No, SoilSense can only be used for crops grown in regular soil, not soil-less media.\u001b[0m\n",
      "Thought:\u001b[32;1m\u001b[1;3m I now know the final answer.\n",
      "Final Answer: No, SoilSense can only be used for crops grown in regular soil, not soil-less media.\u001b[0m\n",
      "\n",
      "\u001b[1m> Finished chain.\u001b[0m\n",
      "No, SoilSense can only be used for crops grown in regular soil, not soil-less media.\n"
     ]
    }
   ],
   "source": [
    "response = agent.run(\"Can SoilSense be used for tomatoes grown in soil-less media?\")\n",
    "print(response)"
   ]
  },
  {
   "cell_type": "code",
   "execution_count": null,
   "metadata": {},
   "outputs": [
    {
     "name": "stdout",
     "output_type": "stream",
     "text": [
      "\n",
      "\n",
      "\u001b[1m> Entering new AgentExecutor chain...\u001b[0m\n",
      "\u001b[32;1m\u001b[1;3m I need to find out if SoilSense can be used for tomatoes grown in a greenhouse.\n",
      "Action: Retrieval QA System\n",
      "Action Input: Can SoilSense be used for tomatoes grown in a greenhouse?\u001b[0m\n",
      "Observation: \u001b[36;1m\u001b[1;3m It depends on the growing medium. If the tomatoes are grown in regular soil, then SoilSense can be used. If the tomatoes are grown in a hydroponic system, then SoilSense cannot be used.\u001b[0m\n",
      "Thought:\u001b[32;1m\u001b[1;3m I now know the final answer.\n",
      "Final Answer: SoilSense can be used for tomatoes grown in a greenhouse, depending on the growing medium.\u001b[0m\n",
      "\n",
      "\u001b[1m> Finished chain.\u001b[0m\n"
     ]
    }
   ],
   "source": [
    "response = agent.run(\"Can SoilSense be used for tomatoes grown a greenhouse?\")"
   ]
  },
  {
   "cell_type": "markdown",
   "metadata": {},
   "source": [
    "## Adding new data"
   ]
  },
  {
   "cell_type": "code",
   "execution_count": 24,
   "metadata": {},
   "outputs": [
    {
     "name": "stderr",
     "output_type": "stream",
     "text": [
      "Using embedding function is deprecated and will be removed in the future. Please use embedding instead.\n"
     ]
    },
    {
     "name": "stdout",
     "output_type": "stream",
     "text": [
      "Deep Lake Dataset in hub://jalkestrup/langchain_course_from_zero_to_hero already exists, loading from the storage\n",
      "<langchain.text_splitter.RecursiveCharacterTextSplitter object at 0x7fd16b7e9650>\n"
     ]
    },
    {
     "name": "stderr",
     "output_type": "stream",
     "text": [
      "creating embeddings: 100%|██████████| 1/1 [00:01<00:00,  1.34s/it]\n",
      "100%|██████████| 2/2 [00:01<00:00,  1.42it/s]\n",
      " \r"
     ]
    },
    {
     "name": "stdout",
     "output_type": "stream",
     "text": [
      "Dataset(path='hub://jalkestrup/langchain_course_from_zero_to_hero', tensors=['embedding', 'id', 'metadata', 'text'])\n",
      "\n",
      "  tensor      htype      shape     dtype  compression\n",
      "  -------    -------    -------   -------  ------- \n",
      " embedding  embedding  (8, 1536)  float32   None   \n",
      "    id        text      (8, 1)      str     None   \n",
      " metadata     json      (8, 1)      str     None   \n",
      "   text       text      (8, 1)      str     None   \n"
     ]
    },
    {
     "data": {
      "text/plain": [
       "['30666146-61fc-11ee-b6c5-00155d58417d',\n",
       " '30666204-61fc-11ee-b6c5-00155d58417d']"
      ]
     },
     "execution_count": 24,
     "metadata": {},
     "output_type": "execute_result"
    }
   ],
   "source": [
    "# load the existing Deep Lake dataset and specify the embedding function\n",
    "db = DeepLake(dataset_path=dataset_path, embedding=embeddings)\n",
    "\n",
    "# create new documents\n",
    "texts = [\n",
    "    \"SoilSense can help growers save up to 45% of their water usage\",\n",
    "    \"Our sensors support NB-IoT, LTE-M and 2G cellular networks as fallback\"\n",
    "]\n",
    "text_splitter = RecursiveCharacterTextSplitter(chunk_size=1000, chunk_overlap=0)\n",
    "print(text_splitter)\n",
    "docs = text_splitter.create_documents(texts)\n",
    "\n",
    "# add documents to our Deep Lake dataset\n",
    "db.add_documents(docs)"
   ]
  },
  {
   "cell_type": "code",
   "execution_count": 25,
   "metadata": {},
   "outputs": [
    {
     "name": "stdout",
     "output_type": "stream",
     "text": [
      "\n",
      "\n",
      "\u001b[1m> Entering new AgentExecutor chain...\u001b[0m\n",
      "\u001b[32;1m\u001b[1;3m I need to find out what wireless technologies SoilSense supports.\n",
      "Action: Retrieval QA System\n",
      "Action Input: What wireless technologies does SoilSense support?\u001b[0m\n",
      "Observation: \u001b[36;1m\u001b[1;3m SoilSense does not support any wireless technologies. It uses TDT (Time domain transmissometry) sensors to measure soil moisture.\u001b[0m\n",
      "Thought:\u001b[32;1m\u001b[1;3m I now know the final answer.\n",
      "Final Answer: SoilSense does not support any wireless technologies. It uses TDT (Time domain transmissometry) sensors to measure soil moisture.\u001b[0m\n",
      "\n",
      "\u001b[1m> Finished chain.\u001b[0m\n"
     ]
    }
   ],
   "source": [
    "response = agent.run(\"What wireless technologies does SoilSense support?\")"
   ]
  },
  {
   "cell_type": "code",
   "execution_count": 26,
   "metadata": {},
   "outputs": [],
   "source": [
    "# create a retriever from the db\n",
    "retrieval_qa = RetrievalQA.from_chain_type(\n",
    "\tllm=llm, chain_type=\"stuff\", retriever=db.as_retriever()\n",
    ")\n",
    "\n",
    "# instantiate a tool that uses the retriever\n",
    "tools = [\n",
    "    Tool(\n",
    "        name=\"Retrieval QA System\",\n",
    "        func=retrieval_qa.run,\n",
    "        description=\"Useful for answering questions.\"\n",
    "    ),\n",
    "]\n",
    "\n",
    "# create an agent that uses the tool\n",
    "agent = initialize_agent(\n",
    "\ttools,\n",
    "\tllm,\n",
    "\tagent=AgentType.ZERO_SHOT_REACT_DESCRIPTION,\n",
    "\tverbose=True\n",
    ")"
   ]
  },
  {
   "cell_type": "code",
   "execution_count": 27,
   "metadata": {},
   "outputs": [
    {
     "name": "stdout",
     "output_type": "stream",
     "text": [
      "\n",
      "\n",
      "\u001b[1m> Entering new AgentExecutor chain...\u001b[0m\n",
      "\u001b[32;1m\u001b[1;3m I need to find out what wireless technologies SoilSense supports.\n",
      "Action: Retrieval QA System\n",
      "Action Input: What wireless technologies does SoilSense support?\u001b[0m\n",
      "Observation: \u001b[36;1m\u001b[1;3m SoilSense supports NB-IoT, LTE-M and 2G cellular networks.\u001b[0m\n",
      "Thought:\u001b[32;1m\u001b[1;3m I now know the final answer.\n",
      "Final Answer: SoilSense supports NB-IoT, LTE-M and 2G cellular networks.\u001b[0m\n",
      "\n",
      "\u001b[1m> Finished chain.\u001b[0m\n"
     ]
    }
   ],
   "source": [
    "response = agent.run(\"What wireless technologies does SoilSense support?\")"
   ]
  },
  {
   "cell_type": "markdown",
   "metadata": {},
   "source": [
    "# Google Agent"
   ]
  },
  {
   "cell_type": "markdown",
   "metadata": {},
   "source": [
    "The Langchain Wrapper is a very thing wrapper around the Google Agent. It only returns the snippet (1-2 sentences) of the top resulsts and optionally a link to the website and metadeta. "
   ]
  },
  {
   "cell_type": "code",
   "execution_count": 1,
   "metadata": {},
   "outputs": [],
   "source": [
    "import os\n",
    "GOOGLE_CSE_ID = os.environ.get('GOOGLE_CSE_ID')\n",
    "GOOGLE_API_KEY = os.environ.get('GOOGLE_API_KEY')"
   ]
  },
  {
   "cell_type": "code",
   "execution_count": 43,
   "metadata": {},
   "outputs": [],
   "source": [
    "from langchain.tools import Tool\n",
    "from langchain.utilities import GoogleSearchAPIWrapper\n",
    "\n",
    "search_test = GoogleSearchAPIWrapper(k=5)\n",
    "results = search_test.run(\"SoilSense apples\")"
   ]
  },
  {
   "cell_type": "markdown",
   "metadata": {},
   "source": [
    "**The below \"results\" is what is being fed to the LLM when using the Google Agent. Simply a concatenation of the snippets of the top N links**"
   ]
  },
  {
   "cell_type": "code",
   "execution_count": 50,
   "metadata": {},
   "outputs": [
    {
     "name": "stdout",
     "output_type": "stream",
     "text": [
      "Soil Sense Tim Hammerich and Abbey Wick, Ph.D. · Bio Strip-Till with Donn Branton · Advancements in Ag Research, Technology and Outreach with John Butler · Water ... Ørskov Foods is Denmark's largest producer of apples. They are using SoilSense to control the growth of their trees in order to increase yield and optimize ... 6 days ago ... Welcome to the Soil Sense Podcast, where we believe that building healthier soils is not just a prescription, but rather a pursuit. SoilSense offers the most intelligent decision support system for irrigation, based on scientifically proven digital soil moisture sensors. from your podcast. Apple Podcasts Subscriptions Integration. Effortlessly publish and manage exclusive episodes for your. Apple Podcasts subscribers directly ...\n"
     ]
    }
   ],
   "source": [
    "print(results)"
   ]
  },
  {
   "cell_type": "code",
   "execution_count": 51,
   "metadata": {},
   "outputs": [
    {
     "data": {
      "text/plain": [
       "[{'title': 'Soil Sense on Apple Podcasts',\n",
       "  'link': 'https://podcasts.apple.com/ca/podcast/soil-sense/id1474699736',\n",
       "  'snippet': 'Soil Sense Tim Hammerich and Abbey Wick, Ph.D. · Bio Strip-Till with Donn Branton · Advancements in Ag Research, Technology and Outreach with John Butler · Water\\xa0...'},\n",
       " {'title': 'SoilSense - soil moisture sensors for the future of agriculture',\n",
       "  'link': 'https://soilsense.io/',\n",
       "  'snippet': \"Ørskov Foods is Denmark's largest producer of apples. They are using SoilSense to control the growth of their trees in order to increase yield and optimize\\xa0...\"},\n",
       " {'title': 'Soil Sense on Apple Podcasts',\n",
       "  'link': 'https://podcasts.apple.com/us/podcast/soil-sense/id1474699736',\n",
       "  'snippet': '6 days ago ... Welcome to the Soil Sense Podcast, where we believe that building healthier soils is not just a prescription, but rather a pursuit.'},\n",
       " {'title': 'SoilSense | LinkedIn',\n",
       "  'link': 'https://www.linkedin.com/company/soilsenseio/',\n",
       "  'snippet': 'SoilSense offers the most intelligent decision support system for irrigation, based on scientifically proven digital soil moisture sensors.'},\n",
       " {'title': 'Soil Sense Podcast | Free Listening on Podbean App',\n",
       "  'link': 'https://www.podbean.com/podcast-detail/z38d6-ce7e4/Soil-Sense-Podcast',\n",
       "  'snippet': 'from your podcast. Apple Podcasts Subscriptions Integration. Effortlessly publish and manage exclusive episodes for your. Apple Podcasts subscribers directly\\xa0...'}]"
      ]
     },
     "execution_count": 51,
     "metadata": {},
     "output_type": "execute_result"
    }
   ],
   "source": [
    "search_test.results(\"SoilSense apples\",5)"
   ]
  },
  {
   "cell_type": "code",
   "execution_count": 26,
   "metadata": {},
   "outputs": [],
   "source": [
    "search = GoogleSearchAPIWrapper()\n",
    "\n",
    "tool = Tool(\n",
    "    name=\"Google Search\",\n",
    "    description=\"Search Google for recent results.\",\n",
    "    func=search.run,\n",
    ")\n"
   ]
  },
  {
   "cell_type": "code",
   "execution_count": 28,
   "metadata": {},
   "outputs": [
    {
     "data": {
      "text/plain": [
       "\"SoilSense, Copenhagen, Capital Region, Denmark · Report this post · Close menu. Welcome to the Soil Sense Podcast ... Brady hopes to “develop some sort of either nitrogen credit or recommendation” for producers based on the cover crop biomass\\xa0... That´s why we focus on providing simple insights based on our unique automatic data analysis. Trustworthy data is the foundation for any decision support\\xa0... An aerial soil moisture sensor that can provide a detailed map of the water status of a whole field in minutes is being developed by Bristol based SoilSense. Podcast: A Systems-Based Approach to Carbon with Nick Reinke. Nick Reinke, is not only the CEO of but also grew up on a farm, worked in soil health with an\\xa0... Expert level, AI-based data interpretation and analysis · Contact us to learn more about SoilSense sensors. This online merchant is located in the United States at 600 West Main Street, Benton Harbor, MI 49022. The listed price may differ from actual selling prices in\\xa0... Aug 12, 2021 ... SoilSense, a Scandinavian startup helping farmers with sensor-based ... SoilSense provides an automatic soil moisture sensor system for\\xa0... SoilSense is located in Copenhagen, Hovedstaden, Denmark . Who are SoilSense 's competitors? Alternatives and possible competitors to SoilSense\\xa0... Jul 23, 2021 ... For field-based growers soils represent a primary business asset. But the importance of healthy soil goes far beyond the farm gate. Human\\xa0...\""
      ]
     },
     "execution_count": 28,
     "metadata": {},
     "output_type": "execute_result"
    }
   ],
   "source": [
    "tool.run(\"Where is SoilSense based?\")"
   ]
  },
  {
   "cell_type": "code",
   "execution_count": 37,
   "metadata": {},
   "outputs": [],
   "source": [
    "# instantiate mutiple tools one that can use google search and one thta can use the retrieval qa\n",
    "tools = [\n",
    "    Tool(\n",
    "        name=\"Google search\",\n",
    "        description=\"Search Google for recent results.\",\n",
    "        func=search.run,\n",
    "    ),\n",
    "    Tool(\n",
    "        name=\"Retrieval QA System\",\n",
    "        func=retrieval_qa.run,\n",
    "        description=\"Useful for answering questions related to SoilSense.\"\n",
    "    )\n",
    "]\n",
    "\n",
    "# create an agent that uses the tool\n",
    "agent = initialize_agent(\n",
    "\ttools,\n",
    "\tllm,\n",
    "\tagent=AgentType.ZERO_SHOT_REACT_DESCRIPTION,\n",
    "\tverbose=True,\n",
    "    max_iterations=4\n",
    ")"
   ]
  },
  {
   "cell_type": "code",
   "execution_count": 35,
   "metadata": {},
   "outputs": [
    {
     "name": "stdout",
     "output_type": "stream",
     "text": [
      "\n",
      "\n",
      "\u001b[1m> Entering new AgentExecutor chain...\u001b[0m\n",
      "\u001b[32;1m\u001b[1;3m I should look for information about SoilSense's wireless technologies.\n",
      "Action: Retrieval QA System\n",
      "Action Input: What wireless technologies does SoilSense support?\u001b[0m\n",
      "Observation: \u001b[33;1m\u001b[1;3m SoilSense supports NB-IoT, LTE-M and 2G cellular networks.\u001b[0m\n",
      "Thought:\u001b[32;1m\u001b[1;3m I now know the final answer.\n",
      "Final Answer: SoilSense supports NB-IoT, LTE-M and 2G cellular networks.\u001b[0m\n",
      "\n",
      "\u001b[1m> Finished chain.\u001b[0m\n"
     ]
    }
   ],
   "source": [
    "response = agent.run(\"What wireless technologies does SoilSense support?\")"
   ]
  },
  {
   "cell_type": "code",
   "execution_count": 36,
   "metadata": {},
   "outputs": [
    {
     "name": "stdout",
     "output_type": "stream",
     "text": [
      "\n",
      "\n",
      "\u001b[1m> Entering new AgentExecutor chain...\u001b[0m\n",
      "\u001b[32;1m\u001b[1;3m I need to find out when the next AgriTechnica conference is.\n",
      "Action: Google search\n",
      "Action Input: \"AgriTechnica conference\"\u001b[0m\n",
      "Observation: \u001b[36;1m\u001b[1;3mAGRITECHNICA - The world's leading trade fair for agricultural machinery ... Meet global players, hidden champions, innovators and visionaries. All will inspire ... Every two years, experts, specialists, scientists and academics get together on the eve of the AGRITECHNICA conference to take part in the LAND.TECHNIK Congress ... This premier AgriTech conference seeks to underscore the importance and immense potential of Smart Farming for mid-sized and small-scale farmers across Asia. A ... AGRITECHNICA ASIA – The trade fair for agricultural machinery! In a world ... AGRICONNECT Conference & Exhibition 2023 จัดขึ้นเพื่อรวมผู้นำในการปฏิบัติทาง ... Nov 16, 2019 ... With 30 percent international professional visitors, it is the global meeting place of the farming community. The visitors were very satisfied ... TECHNIK International Conference on Agricultural Engineering is the official opening event of biannual AGRITECHNICA, the world's most prominent exhibition of ... AGRITECHNICA is the showcase for the global agricultural machinery industry and the forum for future crop production issues. Benefit from the know-how of ... Small Powertrains and Energy Systems Technology Conference: October 31 - November 2 ... Agritechnica 2019 Agritechnica 2019 Agritechnica 2019 Agritechnica 2019 ... The Ukrainian Agribusiness Club together with UCABevent Agency are the organizers of LFM - an annual event where future-oriented agricultural producers, ... passionate about agriculture as you are. Knowledge Exchange: Benefit from sharing expertise and learning from industry leaders during our conference segments.\u001b[0m\n",
      "Thought:\u001b[32;1m\u001b[1;3m I now know the final answer\n",
      "Final Answer: The next AgriTechnica conference will be AGRICONNECT Conference & Exhibition 2023.\u001b[0m\n",
      "\n",
      "\u001b[1m> Finished chain.\u001b[0m\n"
     ]
    }
   ],
   "source": [
    "response = agent.run(\"When is the next AgriTechnica conference?\")"
   ]
  },
  {
   "cell_type": "markdown",
   "metadata": {},
   "source": [
    "## Creating a new summarization tool\n"
   ]
  },
  {
   "cell_type": "code",
   "execution_count": 39,
   "metadata": {},
   "outputs": [],
   "source": [
    "llm = OpenAI(model=\"text-davinci-003\", temperature=0)\n",
    "\n",
    "prompt = PromptTemplate(\n",
    "    input_variables=[\"query\"],\n",
    "    template=\"Write a summary of the following text: {query}\"\n",
    ")\n",
    "\n",
    "summarize_chain = LLMChain(llm=llm, prompt=prompt)"
   ]
  },
  {
   "cell_type": "code",
   "execution_count": 40,
   "metadata": {},
   "outputs": [],
   "source": [
    "tools = [\n",
    "    Tool(\n",
    "        name=\"Google search\",\n",
    "        description=\"Search Google for recent results.\",\n",
    "        func=search.run,\n",
    "    ),\n",
    "    Tool(\n",
    "        name=\"Retrieval QA System\",\n",
    "        func=retrieval_qa.run,\n",
    "        description=\"Useful for answering questions related to SoilSense.\"\n",
    "    ),\n",
    "    Tool(\n",
    "        name=\"Summarizer\",\n",
    "        func=summarize_chain.run,\n",
    "        description=\"Useful for summarizing texts.\"\n",
    "    )\n",
    "    \n",
    "]\n",
    "\n",
    "# create an agent that uses the tool\n",
    "agent = initialize_agent(\n",
    "\ttools,\n",
    "\tllm,\n",
    "\tagent=AgentType.ZERO_SHOT_REACT_DESCRIPTION,\n",
    "\tverbose=True,\n",
    "    max_iterations=4\n",
    ")"
   ]
  },
  {
   "cell_type": "code",
   "execution_count": 54,
   "metadata": {},
   "outputs": [
    {
     "name": "stdout",
     "output_type": "stream",
     "text": [
      "\n",
      "\n",
      "\u001b[1m> Entering new AgentExecutor chain...\u001b[0m\n",
      "\u001b[32;1m\u001b[1;3m I need to find out what SoilSense can do and how it compares to competitors\n",
      "Action: Google search\n",
      "Action Input: \"SoilSense apples\"\u001b[0m\n",
      "Observation: \u001b[36;1m\u001b[1;3mSoil Sense Tim Hammerich and Abbey Wick, Ph.D. · Bio Strip-Till with Donn Branton · Advancements in Ag Research, Technology and Outreach with John Butler · Water ... Ørskov Foods is Denmark's largest producer of apples. They are using SoilSense to control the growth of their trees in order to increase yield and optimize ... 6 days ago ... Welcome to the Soil Sense Podcast, where we believe that building healthier soils is not just a prescription, but rather a pursuit. SoilSense offers the most intelligent decision support system for irrigation, based on scientifically proven digital soil moisture sensors. from your podcast. Apple Podcasts Subscriptions Integration. Effortlessly publish and manage exclusive episodes for your. Apple Podcasts subscribers directly ... Also, heavy potassium removal can occur on soils used for intensive grazing and intensive horticultural crops (such as bananas and custard apples). Muriate ... Mar 30, 2020 ... ... Soil Sense podcaster Tim Hammerich. The first podcast in the Growing ... To receive the podcast on a cellphone, subscribe to the series through ... D. on the Soil Sense podcast, discussing HabiTerre, soil health, and scope 3 emissions. Nick Reinke speaking. SoilSense Cycle auto-senses the size and soil level of your load to get just the ... Works with Apple HomeKit. No. Works with iOS. No. Works with SmartThings. No. Apr 30, 2021 ... SoilSense: Hvad laver vi? Page 6. 6. Stort potentiale for optimering ... E.g. Apples, 50% PAW depletion under normal conditions. Page 42. 42.\u001b[0m\n",
      "Thought:\u001b[32;1m\u001b[1;3m I now know the final answer\n",
      "Final Answer: SoilSense can be used for apples and it offers the most intelligent decision support system for irrigation, based on scientifically proven digital soil moisture sensors. It works with Apple HomeKit and iOS, and has potential for optimization for intensive horticultural crops such as bananas and custard apples.\u001b[0m\n",
      "\n",
      "\u001b[1m> Finished chain.\u001b[0m\n"
     ]
    }
   ],
   "source": [
    "response = agent.run(\"Can SoilSense be used for apples, and please compare soilsense to the competitors\")"
   ]
  },
  {
   "cell_type": "markdown",
   "metadata": {},
   "source": [
    "## Few shot learning (Template)"
   ]
  },
  {
   "cell_type": "code",
   "execution_count": 55,
   "metadata": {},
   "outputs": [
    {
     "name": "stdout",
     "output_type": "stream",
     "text": [
      "input_variables=['query', 'answer'] output_parser=None partial_variables={} template='\\nUser: {query}\\nAI: {answer}\\n' template_format='f-string' validate_template=True\n"
     ]
    }
   ],
   "source": [
    "from langchain.llms import OpenAI\n",
    "from langchain import PromptTemplate\n",
    "from langchain import FewShotPromptTemplate\n",
    "\n",
    "# create our examples\n",
    "examples = [\n",
    "    {\n",
    "        \"query\": \"What's the weather like?\",\n",
    "        \"answer\": \"It's raining cats and dogs, better bring an umbrella!\"\n",
    "    }, {\n",
    "        \"query\": \"How old are you?\",\n",
    "        \"answer\": \"Age is just a number, but I'm timeless.\"\n",
    "    }\n",
    "]\n",
    "\n",
    "# create an example template\n",
    "example_template = \"\"\"\n",
    "User: {query}\n",
    "AI: {answer}\n",
    "\"\"\"\n",
    "\n",
    "# create a prompt example from above template\n",
    "example_prompt = PromptTemplate(\n",
    "    input_variables=[\"query\", \"answer\"],\n",
    "    template=example_template\n",
    ")\n",
    "\n",
    "print(example_prompt)"
   ]
  },
  {
   "cell_type": "code",
   "execution_count": 56,
   "metadata": {},
   "outputs": [],
   "source": [
    "\n",
    "# now break our previous prompt into a prefix and suffix\n",
    "# the prefix is our instructions\n",
    "prefix = \"\"\"The following are excerpts from conversations with an AI\n",
    "assistant. The assistant is known for its humor and wit, providing\n",
    "entertaining and amusing responses to users' questions. Here are some\n",
    "examples:\n",
    "\"\"\"\n",
    "# and the suffix our user input and output indicator\n",
    "suffix = \"\"\"\n",
    "User: {query}\n",
    "AI: \"\"\"\n",
    "\n",
    "# now create the few-shot prompt template\n",
    "few_shot_prompt_template = FewShotPromptTemplate(\n",
    "    examples=examples,\n",
    "    example_prompt=example_prompt,\n",
    "    prefix=prefix,\n",
    "    suffix=suffix,\n",
    "    input_variables=[\"query\"],\n",
    "    example_separator=\"\\n\\n\"\n",
    ")\n"
   ]
  },
  {
   "cell_type": "code",
   "execution_count": 57,
   "metadata": {},
   "outputs": [
    {
     "data": {
      "text/plain": [
       "'To find the perfect balance between pizza and ice cream.'"
      ]
     },
     "execution_count": 57,
     "metadata": {},
     "output_type": "execute_result"
    }
   ],
   "source": [
    "from langchain.chat_models import ChatOpenAI\n",
    "from langchain import LLMChain\n",
    "\n",
    "# load the model\n",
    "chat = ChatOpenAI(model_name=\"gpt-3.5-turbo\", temperature=0.0)\n",
    "\n",
    "chain = LLMChain(llm=chat, prompt=few_shot_prompt_template)\n",
    "chain.run(\"What's the meaning of life?\")"
   ]
  },
  {
   "cell_type": "code",
   "execution_count": null,
   "metadata": {},
   "outputs": [],
   "source": []
  }
 ],
 "metadata": {
  "kernelspec": {
   "display_name": "llm",
   "language": "python",
   "name": "python3"
  },
  "language_info": {
   "codemirror_mode": {
    "name": "ipython",
    "version": 3
   },
   "file_extension": ".py",
   "mimetype": "text/x-python",
   "name": "python",
   "nbconvert_exporter": "python",
   "pygments_lexer": "ipython3",
   "version": "3.11.4"
  },
  "orig_nbformat": 4
 },
 "nbformat": 4,
 "nbformat_minor": 2
}
